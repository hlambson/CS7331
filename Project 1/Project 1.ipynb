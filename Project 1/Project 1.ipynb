{
 "cells": [
  {
   "cell_type": "markdown",
   "id": "b7077a17",
   "metadata": {},
   "source": [
    "# Project 1\n",
    "\n",
    "### 2.1: Loading the data and Data Description"
   ]
  },
  {
   "cell_type": "code",
   "execution_count": 1,
   "id": "f36c0e1a",
   "metadata": {},
   "outputs": [
    {
     "name": "stderr",
     "output_type": "stream",
     "text": [
      "Registered S3 methods overwritten by 'ggplot2':\n",
      "  method         from \n",
      "  [.quosures     rlang\n",
      "  c.quosures     rlang\n",
      "  print.quosures rlang\n",
      "Registered S3 method overwritten by 'rvest':\n",
      "  method            from\n",
      "  read_xml.response xml2\n",
      "-- Attaching packages --------------------------------------- tidyverse 1.2.1 --\n",
      "v ggplot2 3.1.1       v purrr   0.3.2  \n",
      "v tibble  2.1.1       v dplyr   0.8.0.1\n",
      "v tidyr   0.8.3       v stringr 1.4.0  \n",
      "v readr   1.3.1       v forcats 0.4.0  \n",
      "-- Conflicts ------------------------------------------ tidyverse_conflicts() --\n",
      "x dplyr::filter() masks stats::filter()\n",
      "x dplyr::lag()    masks stats::lag()\n"
     ]
    }
   ],
   "source": [
    "library(\"tidyverse\")"
   ]
  },
  {
   "cell_type": "code",
   "execution_count": 2,
   "id": "25704a7d",
   "metadata": {},
   "outputs": [
    {
     "name": "stderr",
     "output_type": "stream",
     "text": [
      "Parsed with column specification:\n",
      "cols(\n",
      "  .default = col_double(),\n",
      "  county_fips_code = col_character(),\n",
      "  county_name = col_character(),\n",
      "  state = col_character(),\n",
      "  state_fips_code = col_character(),\n",
      "  date = col_date(format = \"\"),\n",
      "  geo_id = col_character(),\n",
      "  pop_5_years_over = col_logical(),\n",
      "  speak_only_english_at_home = col_logical(),\n",
      "  speak_spanish_at_home = col_logical(),\n",
      "  speak_spanish_at_home_low_english = col_logical(),\n",
      "  pop_15_and_over = col_logical(),\n",
      "  pop_never_married = col_logical(),\n",
      "  pop_now_married = col_logical(),\n",
      "  pop_separated = col_logical(),\n",
      "  pop_widowed = col_logical(),\n",
      "  pop_divorced = col_logical()\n",
      ")\n",
      "See spec(...) for full column specifications.\n"
     ]
    }
   ],
   "source": [
    "cases <- read_csv(\"COVID-19_cases_plus_census.csv\")"
   ]
  },
  {
   "cell_type": "code",
   "execution_count": 3,
   "id": "b1c5cc24",
   "metadata": {},
   "outputs": [
    {
     "data": {
      "text/html": [
       "<table>\n",
       "<thead><tr><th scope=col>county_fips_code</th><th scope=col>county_name</th><th scope=col>state</th><th scope=col>state_fips_code</th><th scope=col>date</th><th scope=col>confirmed_cases</th><th scope=col>deaths</th><th scope=col>geo_id</th><th scope=col>nonfamily_households</th><th scope=col>family_households</th><th scope=col>...</th><th scope=col>speak_only_english_at_home</th><th scope=col>speak_spanish_at_home</th><th scope=col>speak_spanish_at_home_low_english</th><th scope=col>pop_15_and_over</th><th scope=col>pop_never_married</th><th scope=col>pop_now_married</th><th scope=col>pop_separated</th><th scope=col>pop_widowed</th><th scope=col>pop_divorced</th><th scope=col>do_date</th></tr></thead>\n",
       "<tbody>\n",
       "\t<tr><td>50009            </td><td>Essex County     </td><td>VT               </td><td>50               </td><td>2021-01-19       </td><td>  111            </td><td>   0             </td><td>50009            </td><td>  994            </td><td>  1726           </td><td>...              </td><td>NA               </td><td>NA               </td><td>NA               </td><td>NA               </td><td>NA               </td><td>NA               </td><td>NA               </td><td>NA               </td><td>NA               </td><td>20132017         </td></tr>\n",
       "\t<tr><td>50007            </td><td>Chittenden County</td><td>VT               </td><td>50               </td><td>2021-01-19       </td><td> 3636            </td><td>  78             </td><td>50007            </td><td>27549            </td><td> 37357           </td><td>...              </td><td>NA               </td><td>NA               </td><td>NA               </td><td>NA               </td><td>NA               </td><td>NA               </td><td>NA               </td><td>NA               </td><td>NA               </td><td>20132017         </td></tr>\n",
       "\t<tr><td>10001            </td><td>Kent County      </td><td>DE               </td><td>10               </td><td>2021-01-19       </td><td>11548            </td><td> 187             </td><td>10001            </td><td>19148            </td><td> 44233           </td><td>...              </td><td>NA               </td><td>NA               </td><td>NA               </td><td>NA               </td><td>NA               </td><td>NA               </td><td>NA               </td><td>NA               </td><td>NA               </td><td>20132017         </td></tr>\n",
       "\t<tr><td>44009            </td><td>Washington County</td><td>RI               </td><td>44               </td><td>2021-01-19       </td><td> 5521            </td><td> 122             </td><td>44009            </td><td>16912            </td><td> 32696           </td><td>...              </td><td>NA               </td><td>NA               </td><td>NA               </td><td>NA               </td><td>NA               </td><td>NA               </td><td>NA               </td><td>NA               </td><td>NA               </td><td>20132017         </td></tr>\n",
       "\t<tr><td>33001            </td><td>Belknap County   </td><td>NH               </td><td>33               </td><td>2021-01-19       </td><td> 2496            </td><td>  79             </td><td>33001            </td><td> 8260            </td><td> 16319           </td><td>...              </td><td>NA               </td><td>NA               </td><td>NA               </td><td>NA               </td><td>NA               </td><td>NA               </td><td>NA               </td><td>NA               </td><td>NA               </td><td>20132017         </td></tr>\n",
       "\t<tr><td>44005            </td><td>Newport County   </td><td>RI               </td><td>44               </td><td>2021-01-19       </td><td> 3578            </td><td>   6             </td><td>44005            </td><td>13438            </td><td> 21983           </td><td>...              </td><td>NA               </td><td>NA               </td><td>NA               </td><td>NA               </td><td>NA               </td><td>NA               </td><td>NA               </td><td>NA               </td><td>NA               </td><td>20132017         </td></tr>\n",
       "\t<tr><td>50015            </td><td>Lamoille County  </td><td>VT               </td><td>50               </td><td>2021-01-19       </td><td>  312            </td><td>   1             </td><td>50015            </td><td> 4086            </td><td>  6315           </td><td>...              </td><td>NA               </td><td>NA               </td><td>NA               </td><td>NA               </td><td>NA               </td><td>NA               </td><td>NA               </td><td>NA               </td><td>NA               </td><td>20132017         </td></tr>\n",
       "\t<tr><td>09013            </td><td>Tolland County   </td><td>CT               </td><td>09               </td><td>2021-01-19       </td><td> 6255            </td><td> 125             </td><td>09013            </td><td>19146            </td><td> 35732           </td><td>...              </td><td>NA               </td><td>NA               </td><td>NA               </td><td>NA               </td><td>NA               </td><td>NA               </td><td>NA               </td><td>NA               </td><td>NA               </td><td>20132017         </td></tr>\n",
       "\t<tr><td>50001            </td><td>Addison County   </td><td>VT               </td><td>50               </td><td>2021-01-19       </td><td>  527            </td><td>   5             </td><td>50001            </td><td> 5283            </td><td>  9418           </td><td>...              </td><td>NA               </td><td>NA               </td><td>NA               </td><td>NA               </td><td>NA               </td><td>NA               </td><td>NA               </td><td>NA               </td><td>NA               </td><td>20132017         </td></tr>\n",
       "\t<tr><td>50005            </td><td>Caledonia County </td><td>VT               </td><td>50               </td><td>2021-01-19       </td><td>  307            </td><td>   4             </td><td>50005            </td><td> 4763            </td><td>  7331           </td><td>...              </td><td>NA               </td><td>NA               </td><td>NA               </td><td>NA               </td><td>NA               </td><td>NA               </td><td>NA               </td><td>NA               </td><td>NA               </td><td>20132017         </td></tr>\n",
       "\t<tr><td>25019            </td><td>Nantucket County </td><td>MA               </td><td>25               </td><td>2021-01-19       </td><td>  990            </td><td>   2             </td><td>25019            </td><td> 1463            </td><td>  2298           </td><td>...              </td><td>NA               </td><td>NA               </td><td>NA               </td><td>NA               </td><td>NA               </td><td>NA               </td><td>NA               </td><td>NA               </td><td>NA               </td><td>20132017         </td></tr>\n",
       "\t<tr><td>25023            </td><td>Plymouth County  </td><td>MA               </td><td>25               </td><td>2021-01-19       </td><td>32246            </td><td>1104             </td><td>25023            </td><td>53123            </td><td>131072           </td><td>...              </td><td>NA               </td><td>NA               </td><td>NA               </td><td>NA               </td><td>NA               </td><td>NA               </td><td>NA               </td><td>NA               </td><td>NA               </td><td>20132017         </td></tr>\n",
       "\t<tr><td>25001            </td><td>Barnstable County</td><td>MA               </td><td>25               </td><td>2021-01-19       </td><td> 7499            </td><td> 303             </td><td>25001            </td><td>36574            </td><td> 58437           </td><td>...              </td><td>NA               </td><td>NA               </td><td>NA               </td><td>NA               </td><td>NA               </td><td>NA               </td><td>NA               </td><td>NA               </td><td>NA               </td><td>20132017         </td></tr>\n",
       "\t<tr><td>33005            </td><td>Cheshire County  </td><td>NH               </td><td>33               </td><td>2021-01-19       </td><td> 1987            </td><td>   9             </td><td>33005            </td><td>11331            </td><td> 19198           </td><td>...              </td><td>NA               </td><td>NA               </td><td>NA               </td><td>NA               </td><td>NA               </td><td>NA               </td><td>NA               </td><td>NA               </td><td>NA               </td><td>20132017         </td></tr>\n",
       "\t<tr><td>25003            </td><td>Berkshire County </td><td>MA               </td><td>25               </td><td>2021-01-19       </td><td> 4081            </td><td> 187             </td><td>25003            </td><td>22361            </td><td> 32702           </td><td>...              </td><td>NA               </td><td>NA               </td><td>NA               </td><td>NA               </td><td>NA               </td><td>NA               </td><td>NA               </td><td>NA               </td><td>NA               </td><td>20132017         </td></tr>\n",
       "\t<tr><td>25011            </td><td>Franklin County  </td><td>MA               </td><td>25               </td><td>2021-01-19       </td><td> 1615            </td><td>  95             </td><td>25011            </td><td>12593            </td><td> 17919           </td><td>...              </td><td>NA               </td><td>NA               </td><td>NA               </td><td>NA               </td><td>NA               </td><td>NA               </td><td>NA               </td><td>NA               </td><td>NA               </td><td>20132017         </td></tr>\n",
       "\t<tr><td>33009            </td><td>Grafton County   </td><td>NH               </td><td>33               </td><td>2021-01-19       </td><td> 1614            </td><td>  10             </td><td>33009            </td><td>13444            </td><td> 21412           </td><td>...              </td><td>NA               </td><td>NA               </td><td>NA               </td><td>NA               </td><td>NA               </td><td>NA               </td><td>NA               </td><td>NA               </td><td>NA               </td><td>20132017         </td></tr>\n",
       "\t<tr><td>33003            </td><td>Carroll County   </td><td>NH               </td><td>33               </td><td>2021-01-19       </td><td> 1268            </td><td>   4             </td><td>33003            </td><td> 7142            </td><td> 14061           </td><td>...              </td><td>NA               </td><td>NA               </td><td>NA               </td><td>NA               </td><td>NA               </td><td>NA               </td><td>NA               </td><td>NA               </td><td>NA               </td><td>20132017         </td></tr>\n",
       "\t<tr><td>09005            </td><td>Litchfield County</td><td>CT               </td><td>09               </td><td>2021-01-19       </td><td> 9191            </td><td> 244             </td><td>09005            </td><td>24854            </td><td> 49751           </td><td>...              </td><td>NA               </td><td>NA               </td><td>NA               </td><td>NA               </td><td>NA               </td><td>NA               </td><td>NA               </td><td>NA               </td><td>NA               </td><td>20132017         </td></tr>\n",
       "\t<tr><td>50013            </td><td>Grand Isle County</td><td>VT               </td><td>50               </td><td>2021-01-19       </td><td>   78            </td><td>   0             </td><td>50013            </td><td>  860            </td><td>  2092           </td><td>...              </td><td>NA               </td><td>NA               </td><td>NA               </td><td>NA               </td><td>NA               </td><td>NA               </td><td>NA               </td><td>NA               </td><td>NA               </td><td>20132017         </td></tr>\n",
       "\t<tr><td>25007            </td><td>Dukes County     </td><td>MA               </td><td>25               </td><td>2021-01-19       </td><td>  676            </td><td>   0             </td><td>25007            </td><td> 2269            </td><td>  3870           </td><td>...              </td><td>NA               </td><td>NA               </td><td>NA               </td><td>NA               </td><td>NA               </td><td>NA               </td><td>NA               </td><td>NA               </td><td>NA               </td><td>20132017         </td></tr>\n",
       "\t<tr><td>50019            </td><td>Orleans County   </td><td>VT               </td><td>50               </td><td>2021-01-19       </td><td>  326            </td><td>   5             </td><td>50019            </td><td> 4138            </td><td>  7360           </td><td>...              </td><td>NA               </td><td>NA               </td><td>NA               </td><td>NA               </td><td>NA               </td><td>NA               </td><td>NA               </td><td>NA               </td><td>NA               </td><td>20132017         </td></tr>\n",
       "\t<tr><td>50003            </td><td>Bennington County</td><td>VT               </td><td>50               </td><td>2021-01-19       </td><td>  784            </td><td>   3             </td><td>50003            </td><td> 5516            </td><td>  9764           </td><td>...              </td><td>NA               </td><td>NA               </td><td>NA               </td><td>NA               </td><td>NA               </td><td>NA               </td><td>NA               </td><td>NA               </td><td>NA               </td><td>20132017         </td></tr>\n",
       "\t<tr><td>33013            </td><td>Merrimack County </td><td>NH               </td><td>33               </td><td>2021-01-19       </td><td> 6092            </td><td>  92             </td><td>33013            </td><td>19091            </td><td> 38156           </td><td>...              </td><td>NA               </td><td>NA               </td><td>NA               </td><td>NA               </td><td>NA               </td><td>NA               </td><td>NA               </td><td>NA               </td><td>NA               </td><td>20132017         </td></tr>\n",
       "\t<tr><td>50025            </td><td>Windham County   </td><td>VT               </td><td>50               </td><td>2021-01-19       </td><td>  709            </td><td>   9             </td><td>50025            </td><td> 7908            </td><td> 11151           </td><td>...              </td><td>NA               </td><td>NA               </td><td>NA               </td><td>NA               </td><td>NA               </td><td>NA               </td><td>NA               </td><td>NA               </td><td>NA               </td><td>20132017         </td></tr>\n",
       "\t<tr><td>33017            </td><td>Strafford County </td><td>NH               </td><td>33               </td><td>2021-01-19       </td><td> 4917            </td><td>  47             </td><td>33017            </td><td>17278            </td><td> 31265           </td><td>...              </td><td>NA               </td><td>NA               </td><td>NA               </td><td>NA               </td><td>NA               </td><td>NA               </td><td>NA               </td><td>NA               </td><td>NA               </td><td>20132017         </td></tr>\n",
       "\t<tr><td>33019            </td><td>Sullivan County  </td><td>NH               </td><td>33               </td><td>2021-01-19       </td><td>  855            </td><td>   8             </td><td>33019            </td><td> 6181            </td><td> 11599           </td><td>...              </td><td>NA               </td><td>NA               </td><td>NA               </td><td>NA               </td><td>NA               </td><td>NA               </td><td>NA               </td><td>NA               </td><td>NA               </td><td>20132017         </td></tr>\n",
       "\t<tr><td>44001            </td><td>Bristol County   </td><td>RI               </td><td>44               </td><td>2021-01-19       </td><td> 3251            </td><td>  78             </td><td>44001            </td><td> 7111            </td><td> 12410           </td><td>...              </td><td>NA               </td><td>NA               </td><td>NA               </td><td>NA               </td><td>NA               </td><td>NA               </td><td>NA               </td><td>NA               </td><td>NA               </td><td>20132017         </td></tr>\n",
       "\t<tr><td>09007            </td><td>Middlesex County </td><td>CT               </td><td>09               </td><td>2021-01-19       </td><td> 8497            </td><td> 298             </td><td>09007            </td><td>24028            </td><td> 42571           </td><td>...              </td><td>NA               </td><td>NA               </td><td>NA               </td><td>NA               </td><td>NA               </td><td>NA               </td><td>NA               </td><td>NA               </td><td>NA               </td><td>20132017         </td></tr>\n",
       "\t<tr><td>50023            </td><td>Washington County</td><td>VT               </td><td>50               </td><td>2021-01-19       </td><td> 1042            </td><td>  11             </td><td>50023            </td><td> 9440            </td><td> 15279           </td><td>...              </td><td>NA               </td><td>NA               </td><td>NA               </td><td>NA               </td><td>NA               </td><td>NA               </td><td>NA               </td><td>NA               </td><td>NA               </td><td>20132017         </td></tr>\n",
       "\t<tr><td>...</td><td>...</td><td>...</td><td>...</td><td>...</td><td>...</td><td>...</td><td>...</td><td>...</td><td>...</td><td>   </td><td>...</td><td>...</td><td>...</td><td>...</td><td>...</td><td>...</td><td>...</td><td>...</td><td>...</td><td>...</td></tr>\n",
       "\t<tr><td>54011             </td><td>Cabell County     </td><td>WV                </td><td>54                </td><td>2021-01-19        </td><td>6458              </td><td>132               </td><td>54011             </td><td>17537             </td><td>22702             </td><td>...               </td><td>NA                </td><td>NA                </td><td>NA                </td><td>NA                </td><td>NA                </td><td>NA                </td><td>NA                </td><td>NA                </td><td>NA                </td><td>20132017          </td></tr>\n",
       "\t<tr><td>54105             </td><td>Wirt County       </td><td>WV                </td><td>54                </td><td>2021-01-19        </td><td> 293              </td><td>  1               </td><td>54105             </td><td>  850             </td><td> 1577             </td><td>...               </td><td>NA                </td><td>NA                </td><td>NA                </td><td>NA                </td><td>NA                </td><td>NA                </td><td>NA                </td><td>NA                </td><td>NA                </td><td>20132017          </td></tr>\n",
       "\t<tr><td>54073             </td><td>Pleasants County  </td><td>WV                </td><td>54                </td><td>2021-01-19        </td><td> 721              </td><td> 11               </td><td>54073             </td><td>  717             </td><td> 2151             </td><td>...               </td><td>NA                </td><td>NA                </td><td>NA                </td><td>NA                </td><td>NA                </td><td>NA                </td><td>NA                </td><td>NA                </td><td>NA                </td><td>20132017          </td></tr>\n",
       "\t<tr><td>54015             </td><td>Clay County       </td><td>WV                </td><td>54                </td><td>2021-01-19        </td><td> 301              </td><td>  4               </td><td>54015             </td><td> 1076             </td><td> 2289             </td><td>...               </td><td>NA                </td><td>NA                </td><td>NA                </td><td>NA                </td><td>NA                </td><td>NA                </td><td>NA                </td><td>NA                </td><td>NA                </td><td>20132017          </td></tr>\n",
       "\t<tr><td>54023             </td><td>Grant County      </td><td>WV                </td><td>54                </td><td>2021-01-19        </td><td> 921              </td><td> 19               </td><td>54023             </td><td> 1477             </td><td> 2895             </td><td>...               </td><td>NA                </td><td>NA                </td><td>NA                </td><td>NA                </td><td>NA                </td><td>NA                </td><td>NA                </td><td>NA                </td><td>NA                </td><td>20132017          </td></tr>\n",
       "\t<tr><td>54101             </td><td>Webster County    </td><td>WV                </td><td>54                </td><td>2021-01-19        </td><td> 221              </td><td>  0               </td><td>54101             </td><td> 1209             </td><td> 2481             </td><td>...               </td><td>NA                </td><td>NA                </td><td>NA                </td><td>NA                </td><td>NA                </td><td>NA                </td><td>NA                </td><td>NA                </td><td>NA                </td><td>20132017          </td></tr>\n",
       "\t<tr><td>54093             </td><td>Tucker County     </td><td>WV                </td><td>54                </td><td>2021-01-19        </td><td> 417              </td><td>  7               </td><td>54093             </td><td> 1054             </td><td> 1897             </td><td>...               </td><td>NA                </td><td>NA                </td><td>NA                </td><td>NA                </td><td>NA                </td><td>NA                </td><td>NA                </td><td>NA                </td><td>NA                </td><td>20132017          </td></tr>\n",
       "\t<tr><td>56019             </td><td>Johnson County    </td><td>WY                </td><td>56                </td><td>2021-01-19        </td><td> 600              </td><td>  9               </td><td>56019             </td><td> 1331             </td><td> 2447             </td><td>...               </td><td>NA                </td><td>NA                </td><td>NA                </td><td>NA                </td><td>NA                </td><td>NA                </td><td>NA                </td><td>NA                </td><td>NA                </td><td>20132017          </td></tr>\n",
       "\t<tr><td>56017             </td><td>Hot Springs County</td><td>WY                </td><td>56                </td><td>2021-01-19        </td><td> 339              </td><td>  2               </td><td>56017             </td><td>  894             </td><td> 1352             </td><td>...               </td><td>NA                </td><td>NA                </td><td>NA                </td><td>NA                </td><td>NA                </td><td>NA                </td><td>NA                </td><td>NA                </td><td>NA                </td><td>20132017          </td></tr>\n",
       "\t<tr><td>56009             </td><td>Converse County   </td><td>WY                </td><td>56                </td><td>2021-01-19        </td><td> 889              </td><td> 13               </td><td>56009             </td><td> 1708             </td><td> 3922             </td><td>...               </td><td>NA                </td><td>NA                </td><td>NA                </td><td>NA                </td><td>NA                </td><td>NA                </td><td>NA                </td><td>NA                </td><td>NA                </td><td>20132017          </td></tr>\n",
       "\t<tr><td>56035             </td><td>Sublette County   </td><td>WY                </td><td>56                </td><td>2021-01-19        </td><td> 634              </td><td>  7               </td><td>56035             </td><td> 1022             </td><td> 2175             </td><td>...               </td><td>NA                </td><td>NA                </td><td>NA                </td><td>NA                </td><td>NA                </td><td>NA                </td><td>NA                </td><td>NA                </td><td>NA                </td><td>20132017          </td></tr>\n",
       "\t<tr><td>56043             </td><td>Washakie County   </td><td>WY                </td><td>56                </td><td>2021-01-19        </td><td> 846              </td><td> 23               </td><td>56043             </td><td> 1157             </td><td> 2333             </td><td>...               </td><td>NA                </td><td>NA                </td><td>NA                </td><td>NA                </td><td>NA                </td><td>NA                </td><td>NA                </td><td>NA                </td><td>NA                </td><td>20132017          </td></tr>\n",
       "\t<tr><td>56011             </td><td>Crook County      </td><td>WY                </td><td>56                </td><td>2021-01-19        </td><td> 402              </td><td>  9               </td><td>56011             </td><td>  869             </td><td> 2141             </td><td>...               </td><td>NA                </td><td>NA                </td><td>NA                </td><td>NA                </td><td>NA                </td><td>NA                </td><td>NA                </td><td>NA                </td><td>NA                </td><td>20132017          </td></tr>\n",
       "\t<tr><td>56041             </td><td>Uinta County      </td><td>WY                </td><td>56                </td><td>2021-01-19        </td><td>1843              </td><td>  9               </td><td>56041             </td><td> 2233             </td><td> 5472             </td><td>...               </td><td>NA                </td><td>NA                </td><td>NA                </td><td>NA                </td><td>NA                </td><td>NA                </td><td>NA                </td><td>NA                </td><td>NA                </td><td>20132017          </td></tr>\n",
       "\t<tr><td>56013             </td><td>Fremont County    </td><td>WY                </td><td>56                </td><td>2021-01-19        </td><td>4289              </td><td> 71               </td><td>56013             </td><td> 5274             </td><td> 9893             </td><td>...               </td><td>NA                </td><td>NA                </td><td>NA                </td><td>NA                </td><td>NA                </td><td>NA                </td><td>NA                </td><td>NA                </td><td>NA                </td><td>20132017          </td></tr>\n",
       "\t<tr><td>56003             </td><td>Big Horn County   </td><td>WY                </td><td>56                </td><td>2021-01-19        </td><td> 921              </td><td> 22               </td><td>56003             </td><td> 1594             </td><td> 2887             </td><td>...               </td><td>NA                </td><td>NA                </td><td>NA                </td><td>NA                </td><td>NA                </td><td>NA                </td><td>NA                </td><td>NA                </td><td>NA                </td><td>20132017          </td></tr>\n",
       "\t<tr><td>56045             </td><td>Weston County     </td><td>WY                </td><td>56                </td><td>2021-01-19        </td><td> 606              </td><td>  4               </td><td>56045             </td><td> 1094             </td><td> 2088             </td><td>...               </td><td>NA                </td><td>NA                </td><td>NA                </td><td>NA                </td><td>NA                </td><td>NA                </td><td>NA                </td><td>NA                </td><td>NA                </td><td>20132017          </td></tr>\n",
       "\t<tr><td>56021             </td><td>Laramie County    </td><td>WY                </td><td>56                </td><td>2021-01-19        </td><td>7813              </td><td> 75               </td><td>56021             </td><td>12921             </td><td>25526             </td><td>...               </td><td>NA                </td><td>NA                </td><td>NA                </td><td>NA                </td><td>NA                </td><td>NA                </td><td>NA                </td><td>NA                </td><td>NA                </td><td>20132017          </td></tr>\n",
       "\t<tr><td>56029             </td><td>Park County       </td><td>WY                </td><td>56                </td><td>2021-01-19        </td><td>2469              </td><td> 16               </td><td>56029             </td><td> 3715             </td><td> 8096             </td><td>...               </td><td>NA                </td><td>NA                </td><td>NA                </td><td>NA                </td><td>NA                </td><td>NA                </td><td>NA                </td><td>NA                </td><td>NA                </td><td>20132017          </td></tr>\n",
       "\t<tr><td>56037             </td><td>Sweetwater County </td><td>WY                </td><td>56                </td><td>2021-01-19        </td><td>3329              </td><td> 26               </td><td>56037             </td><td> 5045             </td><td>11224             </td><td>...               </td><td>NA                </td><td>NA                </td><td>NA                </td><td>NA                </td><td>NA                </td><td>NA                </td><td>NA                </td><td>NA                </td><td>NA                </td><td>20132017          </td></tr>\n",
       "\t<tr><td>56025             </td><td>Natrona County    </td><td>WY                </td><td>56                </td><td>2021-01-19        </td><td>7224              </td><td>103               </td><td>56025             </td><td>12504             </td><td>20480             </td><td>...               </td><td>NA                </td><td>NA                </td><td>NA                </td><td>NA                </td><td>NA                </td><td>NA                </td><td>NA                </td><td>NA                </td><td>NA                </td><td>20132017          </td></tr>\n",
       "\t<tr><td>56001             </td><td>Albany County     </td><td>WY                </td><td>56                </td><td>2021-01-19        </td><td>3681              </td><td> 10               </td><td>56001             </td><td> 8277             </td><td> 7732             </td><td>...               </td><td>NA                </td><td>NA                </td><td>NA                </td><td>NA                </td><td>NA                </td><td>NA                </td><td>NA                </td><td>NA                </td><td>NA                </td><td>20132017          </td></tr>\n",
       "\t<tr><td>56031             </td><td>Platte County     </td><td>WY                </td><td>56                </td><td>2021-01-19        </td><td> 538              </td><td>  9               </td><td>56031             </td><td> 1330             </td><td> 2410             </td><td>...               </td><td>NA                </td><td>NA                </td><td>NA                </td><td>NA                </td><td>NA                </td><td>NA                </td><td>NA                </td><td>NA                </td><td>NA                </td><td>20132017          </td></tr>\n",
       "\t<tr><td>56023             </td><td>Lincoln County    </td><td>WY                </td><td>56                </td><td>2021-01-19        </td><td>1073              </td><td> 11               </td><td>56023             </td><td> 2144             </td><td> 4919             </td><td>...               </td><td>NA                </td><td>NA                </td><td>NA                </td><td>NA                </td><td>NA                </td><td>NA                </td><td>NA                </td><td>NA                </td><td>NA                </td><td>20132017          </td></tr>\n",
       "\t<tr><td>56015             </td><td>Goshen County     </td><td>WY                </td><td>56                </td><td>2021-01-19        </td><td>1091              </td><td> 19               </td><td>56015             </td><td> 1733             </td><td> 3595             </td><td>...               </td><td>NA                </td><td>NA                </td><td>NA                </td><td>NA                </td><td>NA                </td><td>NA                </td><td>NA                </td><td>NA                </td><td>NA                </td><td>20132017          </td></tr>\n",
       "\t<tr><td>56039             </td><td>Teton County      </td><td>WY                </td><td>56                </td><td>2021-01-19        </td><td>2769              </td><td>  4               </td><td>56039             </td><td> 3564             </td><td> 5231             </td><td>...               </td><td>NA                </td><td>NA                </td><td>NA                </td><td>NA                </td><td>NA                </td><td>NA                </td><td>NA                </td><td>NA                </td><td>NA                </td><td>20132017          </td></tr>\n",
       "\t<tr><td>56033             </td><td>Sheridan County   </td><td>WY                </td><td>56                </td><td>2021-01-19        </td><td>2802              </td><td> 17               </td><td>56033             </td><td> 4916             </td><td> 8214             </td><td>...               </td><td>NA                </td><td>NA                </td><td>NA                </td><td>NA                </td><td>NA                </td><td>NA                </td><td>NA                </td><td>NA                </td><td>NA                </td><td>20132017          </td></tr>\n",
       "\t<tr><td>56005             </td><td>Campbell County   </td><td>WY                </td><td>56                </td><td>2021-01-19        </td><td>4520              </td><td> 45               </td><td>56005             </td><td> 5299             </td><td>12289             </td><td>...               </td><td>NA                </td><td>NA                </td><td>NA                </td><td>NA                </td><td>NA                </td><td>NA                </td><td>NA                </td><td>NA                </td><td>NA                </td><td>20132017          </td></tr>\n",
       "\t<tr><td>56007             </td><td>Carbon County     </td><td>WY                </td><td>56                </td><td>2021-01-19        </td><td>1099              </td><td> 16               </td><td>56007             </td><td> 2061             </td><td> 4144             </td><td>...               </td><td>NA                </td><td>NA                </td><td>NA                </td><td>NA                </td><td>NA                </td><td>NA                </td><td>NA                </td><td>NA                </td><td>NA                </td><td>20132017          </td></tr>\n",
       "\t<tr><td>56027             </td><td>Niobrara County   </td><td>WY                </td><td>56                </td><td>2021-01-19        </td><td> 145              </td><td>  2               </td><td>56027             </td><td>  455             </td><td>  527             </td><td>...               </td><td>NA                </td><td>NA                </td><td>NA                </td><td>NA                </td><td>NA                </td><td>NA                </td><td>NA                </td><td>NA                </td><td>NA                </td><td>20132017          </td></tr>\n",
       "</tbody>\n",
       "</table>\n"
      ],
      "text/latex": [
       "\\begin{tabular}{r|lllllllllllllllllllllllllllllllllllllllllllllllllllllllllllllllllllllllllllllllllllllllllllllllllllllllllllllllllllllllllllllllllllllllllllllllllllllllllllllllllllllllllllllllllllllllllllllllllllllllllllllllllllllllllllllllllllllllllllllllllllllllllllllllllll}\n",
       " county\\_fips\\_code & county\\_name & state & state\\_fips\\_code & date & confirmed\\_cases & deaths & geo\\_id & nonfamily\\_households & family\\_households & ... & speak\\_only\\_english\\_at\\_home & speak\\_spanish\\_at\\_home & speak\\_spanish\\_at\\_home\\_low\\_english & pop\\_15\\_and\\_over & pop\\_never\\_married & pop\\_now\\_married & pop\\_separated & pop\\_widowed & pop\\_divorced & do\\_date\\\\\n",
       "\\hline\n",
       "\t 50009             & Essex County      & VT                & 50                & 2021-01-19        &   111             &    0              & 50009             &   994             &   1726            & ...               & NA                & NA                & NA                & NA                & NA                & NA                & NA                & NA                & NA                & 20132017         \\\\\n",
       "\t 50007             & Chittenden County & VT                & 50                & 2021-01-19        &  3636             &   78              & 50007             & 27549             &  37357            & ...               & NA                & NA                & NA                & NA                & NA                & NA                & NA                & NA                & NA                & 20132017         \\\\\n",
       "\t 10001             & Kent County       & DE                & 10                & 2021-01-19        & 11548             &  187              & 10001             & 19148             &  44233            & ...               & NA                & NA                & NA                & NA                & NA                & NA                & NA                & NA                & NA                & 20132017         \\\\\n",
       "\t 44009             & Washington County & RI                & 44                & 2021-01-19        &  5521             &  122              & 44009             & 16912             &  32696            & ...               & NA                & NA                & NA                & NA                & NA                & NA                & NA                & NA                & NA                & 20132017         \\\\\n",
       "\t 33001             & Belknap County    & NH                & 33                & 2021-01-19        &  2496             &   79              & 33001             &  8260             &  16319            & ...               & NA                & NA                & NA                & NA                & NA                & NA                & NA                & NA                & NA                & 20132017         \\\\\n",
       "\t 44005             & Newport County    & RI                & 44                & 2021-01-19        &  3578             &    6              & 44005             & 13438             &  21983            & ...               & NA                & NA                & NA                & NA                & NA                & NA                & NA                & NA                & NA                & 20132017         \\\\\n",
       "\t 50015             & Lamoille County   & VT                & 50                & 2021-01-19        &   312             &    1              & 50015             &  4086             &   6315            & ...               & NA                & NA                & NA                & NA                & NA                & NA                & NA                & NA                & NA                & 20132017         \\\\\n",
       "\t 09013             & Tolland County    & CT                & 09                & 2021-01-19        &  6255             &  125              & 09013             & 19146             &  35732            & ...               & NA                & NA                & NA                & NA                & NA                & NA                & NA                & NA                & NA                & 20132017         \\\\\n",
       "\t 50001             & Addison County    & VT                & 50                & 2021-01-19        &   527             &    5              & 50001             &  5283             &   9418            & ...               & NA                & NA                & NA                & NA                & NA                & NA                & NA                & NA                & NA                & 20132017         \\\\\n",
       "\t 50005             & Caledonia County  & VT                & 50                & 2021-01-19        &   307             &    4              & 50005             &  4763             &   7331            & ...               & NA                & NA                & NA                & NA                & NA                & NA                & NA                & NA                & NA                & 20132017         \\\\\n",
       "\t 25019             & Nantucket County  & MA                & 25                & 2021-01-19        &   990             &    2              & 25019             &  1463             &   2298            & ...               & NA                & NA                & NA                & NA                & NA                & NA                & NA                & NA                & NA                & 20132017         \\\\\n",
       "\t 25023             & Plymouth County   & MA                & 25                & 2021-01-19        & 32246             & 1104              & 25023             & 53123             & 131072            & ...               & NA                & NA                & NA                & NA                & NA                & NA                & NA                & NA                & NA                & 20132017         \\\\\n",
       "\t 25001             & Barnstable County & MA                & 25                & 2021-01-19        &  7499             &  303              & 25001             & 36574             &  58437            & ...               & NA                & NA                & NA                & NA                & NA                & NA                & NA                & NA                & NA                & 20132017         \\\\\n",
       "\t 33005             & Cheshire County   & NH                & 33                & 2021-01-19        &  1987             &    9              & 33005             & 11331             &  19198            & ...               & NA                & NA                & NA                & NA                & NA                & NA                & NA                & NA                & NA                & 20132017         \\\\\n",
       "\t 25003             & Berkshire County  & MA                & 25                & 2021-01-19        &  4081             &  187              & 25003             & 22361             &  32702            & ...               & NA                & NA                & NA                & NA                & NA                & NA                & NA                & NA                & NA                & 20132017         \\\\\n",
       "\t 25011             & Franklin County   & MA                & 25                & 2021-01-19        &  1615             &   95              & 25011             & 12593             &  17919            & ...               & NA                & NA                & NA                & NA                & NA                & NA                & NA                & NA                & NA                & 20132017         \\\\\n",
       "\t 33009             & Grafton County    & NH                & 33                & 2021-01-19        &  1614             &   10              & 33009             & 13444             &  21412            & ...               & NA                & NA                & NA                & NA                & NA                & NA                & NA                & NA                & NA                & 20132017         \\\\\n",
       "\t 33003             & Carroll County    & NH                & 33                & 2021-01-19        &  1268             &    4              & 33003             &  7142             &  14061            & ...               & NA                & NA                & NA                & NA                & NA                & NA                & NA                & NA                & NA                & 20132017         \\\\\n",
       "\t 09005             & Litchfield County & CT                & 09                & 2021-01-19        &  9191             &  244              & 09005             & 24854             &  49751            & ...               & NA                & NA                & NA                & NA                & NA                & NA                & NA                & NA                & NA                & 20132017         \\\\\n",
       "\t 50013             & Grand Isle County & VT                & 50                & 2021-01-19        &    78             &    0              & 50013             &   860             &   2092            & ...               & NA                & NA                & NA                & NA                & NA                & NA                & NA                & NA                & NA                & 20132017         \\\\\n",
       "\t 25007             & Dukes County      & MA                & 25                & 2021-01-19        &   676             &    0              & 25007             &  2269             &   3870            & ...               & NA                & NA                & NA                & NA                & NA                & NA                & NA                & NA                & NA                & 20132017         \\\\\n",
       "\t 50019             & Orleans County    & VT                & 50                & 2021-01-19        &   326             &    5              & 50019             &  4138             &   7360            & ...               & NA                & NA                & NA                & NA                & NA                & NA                & NA                & NA                & NA                & 20132017         \\\\\n",
       "\t 50003             & Bennington County & VT                & 50                & 2021-01-19        &   784             &    3              & 50003             &  5516             &   9764            & ...               & NA                & NA                & NA                & NA                & NA                & NA                & NA                & NA                & NA                & 20132017         \\\\\n",
       "\t 33013             & Merrimack County  & NH                & 33                & 2021-01-19        &  6092             &   92              & 33013             & 19091             &  38156            & ...               & NA                & NA                & NA                & NA                & NA                & NA                & NA                & NA                & NA                & 20132017         \\\\\n",
       "\t 50025             & Windham County    & VT                & 50                & 2021-01-19        &   709             &    9              & 50025             &  7908             &  11151            & ...               & NA                & NA                & NA                & NA                & NA                & NA                & NA                & NA                & NA                & 20132017         \\\\\n",
       "\t 33017             & Strafford County  & NH                & 33                & 2021-01-19        &  4917             &   47              & 33017             & 17278             &  31265            & ...               & NA                & NA                & NA                & NA                & NA                & NA                & NA                & NA                & NA                & 20132017         \\\\\n",
       "\t 33019             & Sullivan County   & NH                & 33                & 2021-01-19        &   855             &    8              & 33019             &  6181             &  11599            & ...               & NA                & NA                & NA                & NA                & NA                & NA                & NA                & NA                & NA                & 20132017         \\\\\n",
       "\t 44001             & Bristol County    & RI                & 44                & 2021-01-19        &  3251             &   78              & 44001             &  7111             &  12410            & ...               & NA                & NA                & NA                & NA                & NA                & NA                & NA                & NA                & NA                & 20132017         \\\\\n",
       "\t 09007             & Middlesex County  & CT                & 09                & 2021-01-19        &  8497             &  298              & 09007             & 24028             &  42571            & ...               & NA                & NA                & NA                & NA                & NA                & NA                & NA                & NA                & NA                & 20132017         \\\\\n",
       "\t 50023             & Washington County & VT                & 50                & 2021-01-19        &  1042             &   11              & 50023             &  9440             &  15279            & ...               & NA                & NA                & NA                & NA                & NA                & NA                & NA                & NA                & NA                & 20132017         \\\\\n",
       "\t ... & ... & ... & ... & ... & ... & ... & ... & ... & ... &     & ... & ... & ... & ... & ... & ... & ... & ... & ... & ...\\\\\n",
       "\t 54011              & Cabell County      & WV                 & 54                 & 2021-01-19         & 6458               & 132                & 54011              & 17537              & 22702              & ...                & NA                 & NA                 & NA                 & NA                 & NA                 & NA                 & NA                 & NA                 & NA                 & 20132017          \\\\\n",
       "\t 54105              & Wirt County        & WV                 & 54                 & 2021-01-19         &  293               &   1                & 54105              &   850              &  1577              & ...                & NA                 & NA                 & NA                 & NA                 & NA                 & NA                 & NA                 & NA                 & NA                 & 20132017          \\\\\n",
       "\t 54073              & Pleasants County   & WV                 & 54                 & 2021-01-19         &  721               &  11                & 54073              &   717              &  2151              & ...                & NA                 & NA                 & NA                 & NA                 & NA                 & NA                 & NA                 & NA                 & NA                 & 20132017          \\\\\n",
       "\t 54015              & Clay County        & WV                 & 54                 & 2021-01-19         &  301               &   4                & 54015              &  1076              &  2289              & ...                & NA                 & NA                 & NA                 & NA                 & NA                 & NA                 & NA                 & NA                 & NA                 & 20132017          \\\\\n",
       "\t 54023              & Grant County       & WV                 & 54                 & 2021-01-19         &  921               &  19                & 54023              &  1477              &  2895              & ...                & NA                 & NA                 & NA                 & NA                 & NA                 & NA                 & NA                 & NA                 & NA                 & 20132017          \\\\\n",
       "\t 54101              & Webster County     & WV                 & 54                 & 2021-01-19         &  221               &   0                & 54101              &  1209              &  2481              & ...                & NA                 & NA                 & NA                 & NA                 & NA                 & NA                 & NA                 & NA                 & NA                 & 20132017          \\\\\n",
       "\t 54093              & Tucker County      & WV                 & 54                 & 2021-01-19         &  417               &   7                & 54093              &  1054              &  1897              & ...                & NA                 & NA                 & NA                 & NA                 & NA                 & NA                 & NA                 & NA                 & NA                 & 20132017          \\\\\n",
       "\t 56019              & Johnson County     & WY                 & 56                 & 2021-01-19         &  600               &   9                & 56019              &  1331              &  2447              & ...                & NA                 & NA                 & NA                 & NA                 & NA                 & NA                 & NA                 & NA                 & NA                 & 20132017          \\\\\n",
       "\t 56017              & Hot Springs County & WY                 & 56                 & 2021-01-19         &  339               &   2                & 56017              &   894              &  1352              & ...                & NA                 & NA                 & NA                 & NA                 & NA                 & NA                 & NA                 & NA                 & NA                 & 20132017          \\\\\n",
       "\t 56009              & Converse County    & WY                 & 56                 & 2021-01-19         &  889               &  13                & 56009              &  1708              &  3922              & ...                & NA                 & NA                 & NA                 & NA                 & NA                 & NA                 & NA                 & NA                 & NA                 & 20132017          \\\\\n",
       "\t 56035              & Sublette County    & WY                 & 56                 & 2021-01-19         &  634               &   7                & 56035              &  1022              &  2175              & ...                & NA                 & NA                 & NA                 & NA                 & NA                 & NA                 & NA                 & NA                 & NA                 & 20132017          \\\\\n",
       "\t 56043              & Washakie County    & WY                 & 56                 & 2021-01-19         &  846               &  23                & 56043              &  1157              &  2333              & ...                & NA                 & NA                 & NA                 & NA                 & NA                 & NA                 & NA                 & NA                 & NA                 & 20132017          \\\\\n",
       "\t 56011              & Crook County       & WY                 & 56                 & 2021-01-19         &  402               &   9                & 56011              &   869              &  2141              & ...                & NA                 & NA                 & NA                 & NA                 & NA                 & NA                 & NA                 & NA                 & NA                 & 20132017          \\\\\n",
       "\t 56041              & Uinta County       & WY                 & 56                 & 2021-01-19         & 1843               &   9                & 56041              &  2233              &  5472              & ...                & NA                 & NA                 & NA                 & NA                 & NA                 & NA                 & NA                 & NA                 & NA                 & 20132017          \\\\\n",
       "\t 56013              & Fremont County     & WY                 & 56                 & 2021-01-19         & 4289               &  71                & 56013              &  5274              &  9893              & ...                & NA                 & NA                 & NA                 & NA                 & NA                 & NA                 & NA                 & NA                 & NA                 & 20132017          \\\\\n",
       "\t 56003              & Big Horn County    & WY                 & 56                 & 2021-01-19         &  921               &  22                & 56003              &  1594              &  2887              & ...                & NA                 & NA                 & NA                 & NA                 & NA                 & NA                 & NA                 & NA                 & NA                 & 20132017          \\\\\n",
       "\t 56045              & Weston County      & WY                 & 56                 & 2021-01-19         &  606               &   4                & 56045              &  1094              &  2088              & ...                & NA                 & NA                 & NA                 & NA                 & NA                 & NA                 & NA                 & NA                 & NA                 & 20132017          \\\\\n",
       "\t 56021              & Laramie County     & WY                 & 56                 & 2021-01-19         & 7813               &  75                & 56021              & 12921              & 25526              & ...                & NA                 & NA                 & NA                 & NA                 & NA                 & NA                 & NA                 & NA                 & NA                 & 20132017          \\\\\n",
       "\t 56029              & Park County        & WY                 & 56                 & 2021-01-19         & 2469               &  16                & 56029              &  3715              &  8096              & ...                & NA                 & NA                 & NA                 & NA                 & NA                 & NA                 & NA                 & NA                 & NA                 & 20132017          \\\\\n",
       "\t 56037              & Sweetwater County  & WY                 & 56                 & 2021-01-19         & 3329               &  26                & 56037              &  5045              & 11224              & ...                & NA                 & NA                 & NA                 & NA                 & NA                 & NA                 & NA                 & NA                 & NA                 & 20132017          \\\\\n",
       "\t 56025              & Natrona County     & WY                 & 56                 & 2021-01-19         & 7224               & 103                & 56025              & 12504              & 20480              & ...                & NA                 & NA                 & NA                 & NA                 & NA                 & NA                 & NA                 & NA                 & NA                 & 20132017          \\\\\n",
       "\t 56001              & Albany County      & WY                 & 56                 & 2021-01-19         & 3681               &  10                & 56001              &  8277              &  7732              & ...                & NA                 & NA                 & NA                 & NA                 & NA                 & NA                 & NA                 & NA                 & NA                 & 20132017          \\\\\n",
       "\t 56031              & Platte County      & WY                 & 56                 & 2021-01-19         &  538               &   9                & 56031              &  1330              &  2410              & ...                & NA                 & NA                 & NA                 & NA                 & NA                 & NA                 & NA                 & NA                 & NA                 & 20132017          \\\\\n",
       "\t 56023              & Lincoln County     & WY                 & 56                 & 2021-01-19         & 1073               &  11                & 56023              &  2144              &  4919              & ...                & NA                 & NA                 & NA                 & NA                 & NA                 & NA                 & NA                 & NA                 & NA                 & 20132017          \\\\\n",
       "\t 56015              & Goshen County      & WY                 & 56                 & 2021-01-19         & 1091               &  19                & 56015              &  1733              &  3595              & ...                & NA                 & NA                 & NA                 & NA                 & NA                 & NA                 & NA                 & NA                 & NA                 & 20132017          \\\\\n",
       "\t 56039              & Teton County       & WY                 & 56                 & 2021-01-19         & 2769               &   4                & 56039              &  3564              &  5231              & ...                & NA                 & NA                 & NA                 & NA                 & NA                 & NA                 & NA                 & NA                 & NA                 & 20132017          \\\\\n",
       "\t 56033              & Sheridan County    & WY                 & 56                 & 2021-01-19         & 2802               &  17                & 56033              &  4916              &  8214              & ...                & NA                 & NA                 & NA                 & NA                 & NA                 & NA                 & NA                 & NA                 & NA                 & 20132017          \\\\\n",
       "\t 56005              & Campbell County    & WY                 & 56                 & 2021-01-19         & 4520               &  45                & 56005              &  5299              & 12289              & ...                & NA                 & NA                 & NA                 & NA                 & NA                 & NA                 & NA                 & NA                 & NA                 & 20132017          \\\\\n",
       "\t 56007              & Carbon County      & WY                 & 56                 & 2021-01-19         & 1099               &  16                & 56007              &  2061              &  4144              & ...                & NA                 & NA                 & NA                 & NA                 & NA                 & NA                 & NA                 & NA                 & NA                 & 20132017          \\\\\n",
       "\t 56027              & Niobrara County    & WY                 & 56                 & 2021-01-19         &  145               &   2                & 56027              &   455              &   527              & ...                & NA                 & NA                 & NA                 & NA                 & NA                 & NA                 & NA                 & NA                 & NA                 & 20132017          \\\\\n",
       "\\end{tabular}\n"
      ],
      "text/markdown": [
       "\n",
       "| county_fips_code | county_name | state | state_fips_code | date | confirmed_cases | deaths | geo_id | nonfamily_households | family_households | ... | speak_only_english_at_home | speak_spanish_at_home | speak_spanish_at_home_low_english | pop_15_and_over | pop_never_married | pop_now_married | pop_separated | pop_widowed | pop_divorced | do_date |\n",
       "|---|---|---|---|---|---|---|---|---|---|---|---|---|---|---|---|---|---|---|---|---|\n",
       "| 50009             | Essex County      | VT                | 50                | 2021-01-19        |   111             |    0              | 50009             |   994             |   1726            | ...               | NA                | NA                | NA                | NA                | NA                | NA                | NA                | NA                | NA                | 20132017          |\n",
       "| 50007             | Chittenden County | VT                | 50                | 2021-01-19        |  3636             |   78              | 50007             | 27549             |  37357            | ...               | NA                | NA                | NA                | NA                | NA                | NA                | NA                | NA                | NA                | 20132017          |\n",
       "| 10001             | Kent County       | DE                | 10                | 2021-01-19        | 11548             |  187              | 10001             | 19148             |  44233            | ...               | NA                | NA                | NA                | NA                | NA                | NA                | NA                | NA                | NA                | 20132017          |\n",
       "| 44009             | Washington County | RI                | 44                | 2021-01-19        |  5521             |  122              | 44009             | 16912             |  32696            | ...               | NA                | NA                | NA                | NA                | NA                | NA                | NA                | NA                | NA                | 20132017          |\n",
       "| 33001             | Belknap County    | NH                | 33                | 2021-01-19        |  2496             |   79              | 33001             |  8260             |  16319            | ...               | NA                | NA                | NA                | NA                | NA                | NA                | NA                | NA                | NA                | 20132017          |\n",
       "| 44005             | Newport County    | RI                | 44                | 2021-01-19        |  3578             |    6              | 44005             | 13438             |  21983            | ...               | NA                | NA                | NA                | NA                | NA                | NA                | NA                | NA                | NA                | 20132017          |\n",
       "| 50015             | Lamoille County   | VT                | 50                | 2021-01-19        |   312             |    1              | 50015             |  4086             |   6315            | ...               | NA                | NA                | NA                | NA                | NA                | NA                | NA                | NA                | NA                | 20132017          |\n",
       "| 09013             | Tolland County    | CT                | 09                | 2021-01-19        |  6255             |  125              | 09013             | 19146             |  35732            | ...               | NA                | NA                | NA                | NA                | NA                | NA                | NA                | NA                | NA                | 20132017          |\n",
       "| 50001             | Addison County    | VT                | 50                | 2021-01-19        |   527             |    5              | 50001             |  5283             |   9418            | ...               | NA                | NA                | NA                | NA                | NA                | NA                | NA                | NA                | NA                | 20132017          |\n",
       "| 50005             | Caledonia County  | VT                | 50                | 2021-01-19        |   307             |    4              | 50005             |  4763             |   7331            | ...               | NA                | NA                | NA                | NA                | NA                | NA                | NA                | NA                | NA                | 20132017          |\n",
       "| 25019             | Nantucket County  | MA                | 25                | 2021-01-19        |   990             |    2              | 25019             |  1463             |   2298            | ...               | NA                | NA                | NA                | NA                | NA                | NA                | NA                | NA                | NA                | 20132017          |\n",
       "| 25023             | Plymouth County   | MA                | 25                | 2021-01-19        | 32246             | 1104              | 25023             | 53123             | 131072            | ...               | NA                | NA                | NA                | NA                | NA                | NA                | NA                | NA                | NA                | 20132017          |\n",
       "| 25001             | Barnstable County | MA                | 25                | 2021-01-19        |  7499             |  303              | 25001             | 36574             |  58437            | ...               | NA                | NA                | NA                | NA                | NA                | NA                | NA                | NA                | NA                | 20132017          |\n",
       "| 33005             | Cheshire County   | NH                | 33                | 2021-01-19        |  1987             |    9              | 33005             | 11331             |  19198            | ...               | NA                | NA                | NA                | NA                | NA                | NA                | NA                | NA                | NA                | 20132017          |\n",
       "| 25003             | Berkshire County  | MA                | 25                | 2021-01-19        |  4081             |  187              | 25003             | 22361             |  32702            | ...               | NA                | NA                | NA                | NA                | NA                | NA                | NA                | NA                | NA                | 20132017          |\n",
       "| 25011             | Franklin County   | MA                | 25                | 2021-01-19        |  1615             |   95              | 25011             | 12593             |  17919            | ...               | NA                | NA                | NA                | NA                | NA                | NA                | NA                | NA                | NA                | 20132017          |\n",
       "| 33009             | Grafton County    | NH                | 33                | 2021-01-19        |  1614             |   10              | 33009             | 13444             |  21412            | ...               | NA                | NA                | NA                | NA                | NA                | NA                | NA                | NA                | NA                | 20132017          |\n",
       "| 33003             | Carroll County    | NH                | 33                | 2021-01-19        |  1268             |    4              | 33003             |  7142             |  14061            | ...               | NA                | NA                | NA                | NA                | NA                | NA                | NA                | NA                | NA                | 20132017          |\n",
       "| 09005             | Litchfield County | CT                | 09                | 2021-01-19        |  9191             |  244              | 09005             | 24854             |  49751            | ...               | NA                | NA                | NA                | NA                | NA                | NA                | NA                | NA                | NA                | 20132017          |\n",
       "| 50013             | Grand Isle County | VT                | 50                | 2021-01-19        |    78             |    0              | 50013             |   860             |   2092            | ...               | NA                | NA                | NA                | NA                | NA                | NA                | NA                | NA                | NA                | 20132017          |\n",
       "| 25007             | Dukes County      | MA                | 25                | 2021-01-19        |   676             |    0              | 25007             |  2269             |   3870            | ...               | NA                | NA                | NA                | NA                | NA                | NA                | NA                | NA                | NA                | 20132017          |\n",
       "| 50019             | Orleans County    | VT                | 50                | 2021-01-19        |   326             |    5              | 50019             |  4138             |   7360            | ...               | NA                | NA                | NA                | NA                | NA                | NA                | NA                | NA                | NA                | 20132017          |\n",
       "| 50003             | Bennington County | VT                | 50                | 2021-01-19        |   784             |    3              | 50003             |  5516             |   9764            | ...               | NA                | NA                | NA                | NA                | NA                | NA                | NA                | NA                | NA                | 20132017          |\n",
       "| 33013             | Merrimack County  | NH                | 33                | 2021-01-19        |  6092             |   92              | 33013             | 19091             |  38156            | ...               | NA                | NA                | NA                | NA                | NA                | NA                | NA                | NA                | NA                | 20132017          |\n",
       "| 50025             | Windham County    | VT                | 50                | 2021-01-19        |   709             |    9              | 50025             |  7908             |  11151            | ...               | NA                | NA                | NA                | NA                | NA                | NA                | NA                | NA                | NA                | 20132017          |\n",
       "| 33017             | Strafford County  | NH                | 33                | 2021-01-19        |  4917             |   47              | 33017             | 17278             |  31265            | ...               | NA                | NA                | NA                | NA                | NA                | NA                | NA                | NA                | NA                | 20132017          |\n",
       "| 33019             | Sullivan County   | NH                | 33                | 2021-01-19        |   855             |    8              | 33019             |  6181             |  11599            | ...               | NA                | NA                | NA                | NA                | NA                | NA                | NA                | NA                | NA                | 20132017          |\n",
       "| 44001             | Bristol County    | RI                | 44                | 2021-01-19        |  3251             |   78              | 44001             |  7111             |  12410            | ...               | NA                | NA                | NA                | NA                | NA                | NA                | NA                | NA                | NA                | 20132017          |\n",
       "| 09007             | Middlesex County  | CT                | 09                | 2021-01-19        |  8497             |  298              | 09007             | 24028             |  42571            | ...               | NA                | NA                | NA                | NA                | NA                | NA                | NA                | NA                | NA                | 20132017          |\n",
       "| 50023             | Washington County | VT                | 50                | 2021-01-19        |  1042             |   11              | 50023             |  9440             |  15279            | ...               | NA                | NA                | NA                | NA                | NA                | NA                | NA                | NA                | NA                | 20132017          |\n",
       "| ... | ... | ... | ... | ... | ... | ... | ... | ... | ... |     | ... | ... | ... | ... | ... | ... | ... | ... | ... | ... |\n",
       "| 54011              | Cabell County      | WV                 | 54                 | 2021-01-19         | 6458               | 132                | 54011              | 17537              | 22702              | ...                | NA                 | NA                 | NA                 | NA                 | NA                 | NA                 | NA                 | NA                 | NA                 | 20132017           |\n",
       "| 54105              | Wirt County        | WV                 | 54                 | 2021-01-19         |  293               |   1                | 54105              |   850              |  1577              | ...                | NA                 | NA                 | NA                 | NA                 | NA                 | NA                 | NA                 | NA                 | NA                 | 20132017           |\n",
       "| 54073              | Pleasants County   | WV                 | 54                 | 2021-01-19         |  721               |  11                | 54073              |   717              |  2151              | ...                | NA                 | NA                 | NA                 | NA                 | NA                 | NA                 | NA                 | NA                 | NA                 | 20132017           |\n",
       "| 54015              | Clay County        | WV                 | 54                 | 2021-01-19         |  301               |   4                | 54015              |  1076              |  2289              | ...                | NA                 | NA                 | NA                 | NA                 | NA                 | NA                 | NA                 | NA                 | NA                 | 20132017           |\n",
       "| 54023              | Grant County       | WV                 | 54                 | 2021-01-19         |  921               |  19                | 54023              |  1477              |  2895              | ...                | NA                 | NA                 | NA                 | NA                 | NA                 | NA                 | NA                 | NA                 | NA                 | 20132017           |\n",
       "| 54101              | Webster County     | WV                 | 54                 | 2021-01-19         |  221               |   0                | 54101              |  1209              |  2481              | ...                | NA                 | NA                 | NA                 | NA                 | NA                 | NA                 | NA                 | NA                 | NA                 | 20132017           |\n",
       "| 54093              | Tucker County      | WV                 | 54                 | 2021-01-19         |  417               |   7                | 54093              |  1054              |  1897              | ...                | NA                 | NA                 | NA                 | NA                 | NA                 | NA                 | NA                 | NA                 | NA                 | 20132017           |\n",
       "| 56019              | Johnson County     | WY                 | 56                 | 2021-01-19         |  600               |   9                | 56019              |  1331              |  2447              | ...                | NA                 | NA                 | NA                 | NA                 | NA                 | NA                 | NA                 | NA                 | NA                 | 20132017           |\n",
       "| 56017              | Hot Springs County | WY                 | 56                 | 2021-01-19         |  339               |   2                | 56017              |   894              |  1352              | ...                | NA                 | NA                 | NA                 | NA                 | NA                 | NA                 | NA                 | NA                 | NA                 | 20132017           |\n",
       "| 56009              | Converse County    | WY                 | 56                 | 2021-01-19         |  889               |  13                | 56009              |  1708              |  3922              | ...                | NA                 | NA                 | NA                 | NA                 | NA                 | NA                 | NA                 | NA                 | NA                 | 20132017           |\n",
       "| 56035              | Sublette County    | WY                 | 56                 | 2021-01-19         |  634               |   7                | 56035              |  1022              |  2175              | ...                | NA                 | NA                 | NA                 | NA                 | NA                 | NA                 | NA                 | NA                 | NA                 | 20132017           |\n",
       "| 56043              | Washakie County    | WY                 | 56                 | 2021-01-19         |  846               |  23                | 56043              |  1157              |  2333              | ...                | NA                 | NA                 | NA                 | NA                 | NA                 | NA                 | NA                 | NA                 | NA                 | 20132017           |\n",
       "| 56011              | Crook County       | WY                 | 56                 | 2021-01-19         |  402               |   9                | 56011              |   869              |  2141              | ...                | NA                 | NA                 | NA                 | NA                 | NA                 | NA                 | NA                 | NA                 | NA                 | 20132017           |\n",
       "| 56041              | Uinta County       | WY                 | 56                 | 2021-01-19         | 1843               |   9                | 56041              |  2233              |  5472              | ...                | NA                 | NA                 | NA                 | NA                 | NA                 | NA                 | NA                 | NA                 | NA                 | 20132017           |\n",
       "| 56013              | Fremont County     | WY                 | 56                 | 2021-01-19         | 4289               |  71                | 56013              |  5274              |  9893              | ...                | NA                 | NA                 | NA                 | NA                 | NA                 | NA                 | NA                 | NA                 | NA                 | 20132017           |\n",
       "| 56003              | Big Horn County    | WY                 | 56                 | 2021-01-19         |  921               |  22                | 56003              |  1594              |  2887              | ...                | NA                 | NA                 | NA                 | NA                 | NA                 | NA                 | NA                 | NA                 | NA                 | 20132017           |\n",
       "| 56045              | Weston County      | WY                 | 56                 | 2021-01-19         |  606               |   4                | 56045              |  1094              |  2088              | ...                | NA                 | NA                 | NA                 | NA                 | NA                 | NA                 | NA                 | NA                 | NA                 | 20132017           |\n",
       "| 56021              | Laramie County     | WY                 | 56                 | 2021-01-19         | 7813               |  75                | 56021              | 12921              | 25526              | ...                | NA                 | NA                 | NA                 | NA                 | NA                 | NA                 | NA                 | NA                 | NA                 | 20132017           |\n",
       "| 56029              | Park County        | WY                 | 56                 | 2021-01-19         | 2469               |  16                | 56029              |  3715              |  8096              | ...                | NA                 | NA                 | NA                 | NA                 | NA                 | NA                 | NA                 | NA                 | NA                 | 20132017           |\n",
       "| 56037              | Sweetwater County  | WY                 | 56                 | 2021-01-19         | 3329               |  26                | 56037              |  5045              | 11224              | ...                | NA                 | NA                 | NA                 | NA                 | NA                 | NA                 | NA                 | NA                 | NA                 | 20132017           |\n",
       "| 56025              | Natrona County     | WY                 | 56                 | 2021-01-19         | 7224               | 103                | 56025              | 12504              | 20480              | ...                | NA                 | NA                 | NA                 | NA                 | NA                 | NA                 | NA                 | NA                 | NA                 | 20132017           |\n",
       "| 56001              | Albany County      | WY                 | 56                 | 2021-01-19         | 3681               |  10                | 56001              |  8277              |  7732              | ...                | NA                 | NA                 | NA                 | NA                 | NA                 | NA                 | NA                 | NA                 | NA                 | 20132017           |\n",
       "| 56031              | Platte County      | WY                 | 56                 | 2021-01-19         |  538               |   9                | 56031              |  1330              |  2410              | ...                | NA                 | NA                 | NA                 | NA                 | NA                 | NA                 | NA                 | NA                 | NA                 | 20132017           |\n",
       "| 56023              | Lincoln County     | WY                 | 56                 | 2021-01-19         | 1073               |  11                | 56023              |  2144              |  4919              | ...                | NA                 | NA                 | NA                 | NA                 | NA                 | NA                 | NA                 | NA                 | NA                 | 20132017           |\n",
       "| 56015              | Goshen County      | WY                 | 56                 | 2021-01-19         | 1091               |  19                | 56015              |  1733              |  3595              | ...                | NA                 | NA                 | NA                 | NA                 | NA                 | NA                 | NA                 | NA                 | NA                 | 20132017           |\n",
       "| 56039              | Teton County       | WY                 | 56                 | 2021-01-19         | 2769               |   4                | 56039              |  3564              |  5231              | ...                | NA                 | NA                 | NA                 | NA                 | NA                 | NA                 | NA                 | NA                 | NA                 | 20132017           |\n",
       "| 56033              | Sheridan County    | WY                 | 56                 | 2021-01-19         | 2802               |  17                | 56033              |  4916              |  8214              | ...                | NA                 | NA                 | NA                 | NA                 | NA                 | NA                 | NA                 | NA                 | NA                 | 20132017           |\n",
       "| 56005              | Campbell County    | WY                 | 56                 | 2021-01-19         | 4520               |  45                | 56005              |  5299              | 12289              | ...                | NA                 | NA                 | NA                 | NA                 | NA                 | NA                 | NA                 | NA                 | NA                 | 20132017           |\n",
       "| 56007              | Carbon County      | WY                 | 56                 | 2021-01-19         | 1099               |  16                | 56007              |  2061              |  4144              | ...                | NA                 | NA                 | NA                 | NA                 | NA                 | NA                 | NA                 | NA                 | NA                 | 20132017           |\n",
       "| 56027              | Niobrara County    | WY                 | 56                 | 2021-01-19         |  145               |   2                | 56027              |   455              |   527              | ...                | NA                 | NA                 | NA                 | NA                 | NA                 | NA                 | NA                 | NA                 | NA                 | 20132017           |\n",
       "\n"
      ],
      "text/plain": [
       "     county_fips_code county_name        state state_fips_code date      \n",
       "1    50009            Essex County       VT    50              2021-01-19\n",
       "2    50007            Chittenden County  VT    50              2021-01-19\n",
       "3    10001            Kent County        DE    10              2021-01-19\n",
       "4    44009            Washington County  RI    44              2021-01-19\n",
       "5    33001            Belknap County     NH    33              2021-01-19\n",
       "6    44005            Newport County     RI    44              2021-01-19\n",
       "7    50015            Lamoille County    VT    50              2021-01-19\n",
       "8    09013            Tolland County     CT    09              2021-01-19\n",
       "9    50001            Addison County     VT    50              2021-01-19\n",
       "10   50005            Caledonia County   VT    50              2021-01-19\n",
       "11   25019            Nantucket County   MA    25              2021-01-19\n",
       "12   25023            Plymouth County    MA    25              2021-01-19\n",
       "13   25001            Barnstable County  MA    25              2021-01-19\n",
       "14   33005            Cheshire County    NH    33              2021-01-19\n",
       "15   25003            Berkshire County   MA    25              2021-01-19\n",
       "16   25011            Franklin County    MA    25              2021-01-19\n",
       "17   33009            Grafton County     NH    33              2021-01-19\n",
       "18   33003            Carroll County     NH    33              2021-01-19\n",
       "19   09005            Litchfield County  CT    09              2021-01-19\n",
       "20   50013            Grand Isle County  VT    50              2021-01-19\n",
       "21   25007            Dukes County       MA    25              2021-01-19\n",
       "22   50019            Orleans County     VT    50              2021-01-19\n",
       "23   50003            Bennington County  VT    50              2021-01-19\n",
       "24   33013            Merrimack County   NH    33              2021-01-19\n",
       "25   50025            Windham County     VT    50              2021-01-19\n",
       "26   33017            Strafford County   NH    33              2021-01-19\n",
       "27   33019            Sullivan County    NH    33              2021-01-19\n",
       "28   44001            Bristol County     RI    44              2021-01-19\n",
       "29   09007            Middlesex County   CT    09              2021-01-19\n",
       "30   50023            Washington County  VT    50              2021-01-19\n",
       "...  ...              ...                ...   ...             ...       \n",
       "3113 54011            Cabell County      WV    54              2021-01-19\n",
       "3114 54105            Wirt County        WV    54              2021-01-19\n",
       "3115 54073            Pleasants County   WV    54              2021-01-19\n",
       "3116 54015            Clay County        WV    54              2021-01-19\n",
       "3117 54023            Grant County       WV    54              2021-01-19\n",
       "3118 54101            Webster County     WV    54              2021-01-19\n",
       "3119 54093            Tucker County      WV    54              2021-01-19\n",
       "3120 56019            Johnson County     WY    56              2021-01-19\n",
       "3121 56017            Hot Springs County WY    56              2021-01-19\n",
       "3122 56009            Converse County    WY    56              2021-01-19\n",
       "3123 56035            Sublette County    WY    56              2021-01-19\n",
       "3124 56043            Washakie County    WY    56              2021-01-19\n",
       "3125 56011            Crook County       WY    56              2021-01-19\n",
       "3126 56041            Uinta County       WY    56              2021-01-19\n",
       "3127 56013            Fremont County     WY    56              2021-01-19\n",
       "3128 56003            Big Horn County    WY    56              2021-01-19\n",
       "3129 56045            Weston County      WY    56              2021-01-19\n",
       "3130 56021            Laramie County     WY    56              2021-01-19\n",
       "3131 56029            Park County        WY    56              2021-01-19\n",
       "3132 56037            Sweetwater County  WY    56              2021-01-19\n",
       "3133 56025            Natrona County     WY    56              2021-01-19\n",
       "3134 56001            Albany County      WY    56              2021-01-19\n",
       "3135 56031            Platte County      WY    56              2021-01-19\n",
       "3136 56023            Lincoln County     WY    56              2021-01-19\n",
       "3137 56015            Goshen County      WY    56              2021-01-19\n",
       "3138 56039            Teton County       WY    56              2021-01-19\n",
       "3139 56033            Sheridan County    WY    56              2021-01-19\n",
       "3140 56005            Campbell County    WY    56              2021-01-19\n",
       "3141 56007            Carbon County      WY    56              2021-01-19\n",
       "3142 56027            Niobrara County    WY    56              2021-01-19\n",
       "     confirmed_cases deaths geo_id nonfamily_households family_households ...\n",
       "1      111              0   50009    994                  1726            ...\n",
       "2     3636             78   50007  27549                 37357            ...\n",
       "3    11548            187   10001  19148                 44233            ...\n",
       "4     5521            122   44009  16912                 32696            ...\n",
       "5     2496             79   33001   8260                 16319            ...\n",
       "6     3578              6   44005  13438                 21983            ...\n",
       "7      312              1   50015   4086                  6315            ...\n",
       "8     6255            125   09013  19146                 35732            ...\n",
       "9      527              5   50001   5283                  9418            ...\n",
       "10     307              4   50005   4763                  7331            ...\n",
       "11     990              2   25019   1463                  2298            ...\n",
       "12   32246           1104   25023  53123                131072            ...\n",
       "13    7499            303   25001  36574                 58437            ...\n",
       "14    1987              9   33005  11331                 19198            ...\n",
       "15    4081            187   25003  22361                 32702            ...\n",
       "16    1615             95   25011  12593                 17919            ...\n",
       "17    1614             10   33009  13444                 21412            ...\n",
       "18    1268              4   33003   7142                 14061            ...\n",
       "19    9191            244   09005  24854                 49751            ...\n",
       "20      78              0   50013    860                  2092            ...\n",
       "21     676              0   25007   2269                  3870            ...\n",
       "22     326              5   50019   4138                  7360            ...\n",
       "23     784              3   50003   5516                  9764            ...\n",
       "24    6092             92   33013  19091                 38156            ...\n",
       "25     709              9   50025   7908                 11151            ...\n",
       "26    4917             47   33017  17278                 31265            ...\n",
       "27     855              8   33019   6181                 11599            ...\n",
       "28    3251             78   44001   7111                 12410            ...\n",
       "29    8497            298   09007  24028                 42571            ...\n",
       "30    1042             11   50023   9440                 15279            ...\n",
       "...  ...             ...    ...    ...                  ...                  \n",
       "3113 6458            132    54011  17537                22702             ...\n",
       "3114  293              1    54105    850                 1577             ...\n",
       "3115  721             11    54073    717                 2151             ...\n",
       "3116  301              4    54015   1076                 2289             ...\n",
       "3117  921             19    54023   1477                 2895             ...\n",
       "3118  221              0    54101   1209                 2481             ...\n",
       "3119  417              7    54093   1054                 1897             ...\n",
       "3120  600              9    56019   1331                 2447             ...\n",
       "3121  339              2    56017    894                 1352             ...\n",
       "3122  889             13    56009   1708                 3922             ...\n",
       "3123  634              7    56035   1022                 2175             ...\n",
       "3124  846             23    56043   1157                 2333             ...\n",
       "3125  402              9    56011    869                 2141             ...\n",
       "3126 1843              9    56041   2233                 5472             ...\n",
       "3127 4289             71    56013   5274                 9893             ...\n",
       "3128  921             22    56003   1594                 2887             ...\n",
       "3129  606              4    56045   1094                 2088             ...\n",
       "3130 7813             75    56021  12921                25526             ...\n",
       "3131 2469             16    56029   3715                 8096             ...\n",
       "3132 3329             26    56037   5045                11224             ...\n",
       "3133 7224            103    56025  12504                20480             ...\n",
       "3134 3681             10    56001   8277                 7732             ...\n",
       "3135  538              9    56031   1330                 2410             ...\n",
       "3136 1073             11    56023   2144                 4919             ...\n",
       "3137 1091             19    56015   1733                 3595             ...\n",
       "3138 2769              4    56039   3564                 5231             ...\n",
       "3139 2802             17    56033   4916                 8214             ...\n",
       "3140 4520             45    56005   5299                12289             ...\n",
       "3141 1099             16    56007   2061                 4144             ...\n",
       "3142  145              2    56027    455                  527             ...\n",
       "     speak_only_english_at_home speak_spanish_at_home\n",
       "1    NA                         NA                   \n",
       "2    NA                         NA                   \n",
       "3    NA                         NA                   \n",
       "4    NA                         NA                   \n",
       "5    NA                         NA                   \n",
       "6    NA                         NA                   \n",
       "7    NA                         NA                   \n",
       "8    NA                         NA                   \n",
       "9    NA                         NA                   \n",
       "10   NA                         NA                   \n",
       "11   NA                         NA                   \n",
       "12   NA                         NA                   \n",
       "13   NA                         NA                   \n",
       "14   NA                         NA                   \n",
       "15   NA                         NA                   \n",
       "16   NA                         NA                   \n",
       "17   NA                         NA                   \n",
       "18   NA                         NA                   \n",
       "19   NA                         NA                   \n",
       "20   NA                         NA                   \n",
       "21   NA                         NA                   \n",
       "22   NA                         NA                   \n",
       "23   NA                         NA                   \n",
       "24   NA                         NA                   \n",
       "25   NA                         NA                   \n",
       "26   NA                         NA                   \n",
       "27   NA                         NA                   \n",
       "28   NA                         NA                   \n",
       "29   NA                         NA                   \n",
       "30   NA                         NA                   \n",
       "...  ...                        ...                  \n",
       "3113 NA                         NA                   \n",
       "3114 NA                         NA                   \n",
       "3115 NA                         NA                   \n",
       "3116 NA                         NA                   \n",
       "3117 NA                         NA                   \n",
       "3118 NA                         NA                   \n",
       "3119 NA                         NA                   \n",
       "3120 NA                         NA                   \n",
       "3121 NA                         NA                   \n",
       "3122 NA                         NA                   \n",
       "3123 NA                         NA                   \n",
       "3124 NA                         NA                   \n",
       "3125 NA                         NA                   \n",
       "3126 NA                         NA                   \n",
       "3127 NA                         NA                   \n",
       "3128 NA                         NA                   \n",
       "3129 NA                         NA                   \n",
       "3130 NA                         NA                   \n",
       "3131 NA                         NA                   \n",
       "3132 NA                         NA                   \n",
       "3133 NA                         NA                   \n",
       "3134 NA                         NA                   \n",
       "3135 NA                         NA                   \n",
       "3136 NA                         NA                   \n",
       "3137 NA                         NA                   \n",
       "3138 NA                         NA                   \n",
       "3139 NA                         NA                   \n",
       "3140 NA                         NA                   \n",
       "3141 NA                         NA                   \n",
       "3142 NA                         NA                   \n",
       "     speak_spanish_at_home_low_english pop_15_and_over pop_never_married\n",
       "1    NA                                NA              NA               \n",
       "2    NA                                NA              NA               \n",
       "3    NA                                NA              NA               \n",
       "4    NA                                NA              NA               \n",
       "5    NA                                NA              NA               \n",
       "6    NA                                NA              NA               \n",
       "7    NA                                NA              NA               \n",
       "8    NA                                NA              NA               \n",
       "9    NA                                NA              NA               \n",
       "10   NA                                NA              NA               \n",
       "11   NA                                NA              NA               \n",
       "12   NA                                NA              NA               \n",
       "13   NA                                NA              NA               \n",
       "14   NA                                NA              NA               \n",
       "15   NA                                NA              NA               \n",
       "16   NA                                NA              NA               \n",
       "17   NA                                NA              NA               \n",
       "18   NA                                NA              NA               \n",
       "19   NA                                NA              NA               \n",
       "20   NA                                NA              NA               \n",
       "21   NA                                NA              NA               \n",
       "22   NA                                NA              NA               \n",
       "23   NA                                NA              NA               \n",
       "24   NA                                NA              NA               \n",
       "25   NA                                NA              NA               \n",
       "26   NA                                NA              NA               \n",
       "27   NA                                NA              NA               \n",
       "28   NA                                NA              NA               \n",
       "29   NA                                NA              NA               \n",
       "30   NA                                NA              NA               \n",
       "...  ...                               ...             ...              \n",
       "3113 NA                                NA              NA               \n",
       "3114 NA                                NA              NA               \n",
       "3115 NA                                NA              NA               \n",
       "3116 NA                                NA              NA               \n",
       "3117 NA                                NA              NA               \n",
       "3118 NA                                NA              NA               \n",
       "3119 NA                                NA              NA               \n",
       "3120 NA                                NA              NA               \n",
       "3121 NA                                NA              NA               \n",
       "3122 NA                                NA              NA               \n",
       "3123 NA                                NA              NA               \n",
       "3124 NA                                NA              NA               \n",
       "3125 NA                                NA              NA               \n",
       "3126 NA                                NA              NA               \n",
       "3127 NA                                NA              NA               \n",
       "3128 NA                                NA              NA               \n",
       "3129 NA                                NA              NA               \n",
       "3130 NA                                NA              NA               \n",
       "3131 NA                                NA              NA               \n",
       "3132 NA                                NA              NA               \n",
       "3133 NA                                NA              NA               \n",
       "3134 NA                                NA              NA               \n",
       "3135 NA                                NA              NA               \n",
       "3136 NA                                NA              NA               \n",
       "3137 NA                                NA              NA               \n",
       "3138 NA                                NA              NA               \n",
       "3139 NA                                NA              NA               \n",
       "3140 NA                                NA              NA               \n",
       "3141 NA                                NA              NA               \n",
       "3142 NA                                NA              NA               \n",
       "     pop_now_married pop_separated pop_widowed pop_divorced do_date \n",
       "1    NA              NA            NA          NA           20132017\n",
       "2    NA              NA            NA          NA           20132017\n",
       "3    NA              NA            NA          NA           20132017\n",
       "4    NA              NA            NA          NA           20132017\n",
       "5    NA              NA            NA          NA           20132017\n",
       "6    NA              NA            NA          NA           20132017\n",
       "7    NA              NA            NA          NA           20132017\n",
       "8    NA              NA            NA          NA           20132017\n",
       "9    NA              NA            NA          NA           20132017\n",
       "10   NA              NA            NA          NA           20132017\n",
       "11   NA              NA            NA          NA           20132017\n",
       "12   NA              NA            NA          NA           20132017\n",
       "13   NA              NA            NA          NA           20132017\n",
       "14   NA              NA            NA          NA           20132017\n",
       "15   NA              NA            NA          NA           20132017\n",
       "16   NA              NA            NA          NA           20132017\n",
       "17   NA              NA            NA          NA           20132017\n",
       "18   NA              NA            NA          NA           20132017\n",
       "19   NA              NA            NA          NA           20132017\n",
       "20   NA              NA            NA          NA           20132017\n",
       "21   NA              NA            NA          NA           20132017\n",
       "22   NA              NA            NA          NA           20132017\n",
       "23   NA              NA            NA          NA           20132017\n",
       "24   NA              NA            NA          NA           20132017\n",
       "25   NA              NA            NA          NA           20132017\n",
       "26   NA              NA            NA          NA           20132017\n",
       "27   NA              NA            NA          NA           20132017\n",
       "28   NA              NA            NA          NA           20132017\n",
       "29   NA              NA            NA          NA           20132017\n",
       "30   NA              NA            NA          NA           20132017\n",
       "...  ...             ...           ...         ...          ...     \n",
       "3113 NA              NA            NA          NA           20132017\n",
       "3114 NA              NA            NA          NA           20132017\n",
       "3115 NA              NA            NA          NA           20132017\n",
       "3116 NA              NA            NA          NA           20132017\n",
       "3117 NA              NA            NA          NA           20132017\n",
       "3118 NA              NA            NA          NA           20132017\n",
       "3119 NA              NA            NA          NA           20132017\n",
       "3120 NA              NA            NA          NA           20132017\n",
       "3121 NA              NA            NA          NA           20132017\n",
       "3122 NA              NA            NA          NA           20132017\n",
       "3123 NA              NA            NA          NA           20132017\n",
       "3124 NA              NA            NA          NA           20132017\n",
       "3125 NA              NA            NA          NA           20132017\n",
       "3126 NA              NA            NA          NA           20132017\n",
       "3127 NA              NA            NA          NA           20132017\n",
       "3128 NA              NA            NA          NA           20132017\n",
       "3129 NA              NA            NA          NA           20132017\n",
       "3130 NA              NA            NA          NA           20132017\n",
       "3131 NA              NA            NA          NA           20132017\n",
       "3132 NA              NA            NA          NA           20132017\n",
       "3133 NA              NA            NA          NA           20132017\n",
       "3134 NA              NA            NA          NA           20132017\n",
       "3135 NA              NA            NA          NA           20132017\n",
       "3136 NA              NA            NA          NA           20132017\n",
       "3137 NA              NA            NA          NA           20132017\n",
       "3138 NA              NA            NA          NA           20132017\n",
       "3139 NA              NA            NA          NA           20132017\n",
       "3140 NA              NA            NA          NA           20132017\n",
       "3141 NA              NA            NA          NA           20132017\n",
       "3142 NA              NA            NA          NA           20132017"
      ]
     },
     "metadata": {},
     "output_type": "display_data"
    }
   ],
   "source": [
    "cases"
   ]
  },
  {
   "cell_type": "code",
   "execution_count": 4,
   "id": "872777d6",
   "metadata": {},
   "outputs": [
    {
     "data": {
      "text/html": [
       "<ol class=list-inline>\n",
       "\t<li>3142</li>\n",
       "\t<li>259</li>\n",
       "</ol>\n"
      ],
      "text/latex": [
       "\\begin{enumerate*}\n",
       "\\item 3142\n",
       "\\item 259\n",
       "\\end{enumerate*}\n"
      ],
      "text/markdown": [
       "1. 3142\n",
       "2. 259\n",
       "\n",
       "\n"
      ],
      "text/plain": [
       "[1] 3142  259"
      ]
     },
     "metadata": {},
     "output_type": "display_data"
    }
   ],
   "source": [
    "cases <- cases %>% mutate_if(is.character, factor)\n",
    "dim(cases)"
   ]
  },
  {
   "cell_type": "markdown",
   "id": "c82b323e",
   "metadata": {},
   "source": [
    "Using str() to get a summary of the data"
   ]
  },
  {
   "cell_type": "code",
   "execution_count": 5,
   "id": "f29cb2ef",
   "metadata": {},
   "outputs": [
    {
     "name": "stdout",
     "output_type": "stream",
     "text": [
      "Classes 'spec_tbl_df', 'tbl_df', 'tbl' and 'data.frame':\t3142 obs. of  259 variables:\n",
      " $ county_fips_code                                              : Factor w/ 3142 levels \"01001\",\"01003\",..: 2811 2810 317 2316 1765 2314 2814 315 2807 2809 ...\n",
      " $ county_name                                                   : Factor w/ 1878 levels \"Abbeville County\",..: 560 331 885 1777 128 1193 941 1677 7 247 ...\n",
      " $ state                                                         : Factor w/ 51 levels \"AK\",\"AL\",\"AR\",..: 47 47 9 40 31 40 47 7 47 47 ...\n",
      " $ state_fips_code                                               : Factor w/ 51 levels \"01\",\"02\",\"04\",..: 46 46 8 40 30 40 46 7 46 46 ...\n",
      " $ date                                                          : Date, format: \"2021-01-19\" \"2021-01-19\" ...\n",
      " $ confirmed_cases                                               : num  111 3636 11548 5521 2496 ...\n",
      " $ deaths                                                        : num  0 78 187 122 79 6 1 125 5 4 ...\n",
      " $ geo_id                                                        : Factor w/ 3142 levels \"01001\",\"01003\",..: 2811 2810 317 2316 1765 2314 2814 315 2807 2809 ...\n",
      " $ nonfamily_households                                          : num  994 27549 19148 16912 8260 ...\n",
      " $ family_households                                             : num  1726 37357 44233 32696 16319 ...\n",
      " $ median_year_structure_built                                   : num  1973 1978 1991 1974 1977 ...\n",
      " $ rent_burden_not_computed                                      : num  64 1158 1358 1312 398 ...\n",
      " $ rent_over_50_percent                                          : num  97 6620 4408 3429 1351 ...\n",
      " $ rent_40_to_50_percent                                         : num  67 2083 1904 960 441 ...\n",
      " $ rent_35_to_40_percent                                         : num  16 1616 1397 723 375 ...\n",
      " $ rent_30_to_35_percent                                         : num  54 2362 1719 911 444 ...\n",
      " $ rent_25_to_30_percent                                         : num  49 2750 2238 1705 773 ...\n",
      " $ rent_20_to_25_percent                                         : num  96 3422 2186 1443 762 ...\n",
      " $ rent_15_to_20_percent                                         : num  75 2258 2266 1262 832 ...\n",
      " $ rent_10_to_15_percent                                         : num  30 1331 1206 1253 399 ...\n",
      " $ rent_under_10_percent                                         : num  24 326 567 253 185 649 60 341 159 159 ...\n",
      " $ total_pop                                                     : num  6203 160985 173145 126190 60383 ...\n",
      " $ male_pop                                                      : num  3135 78928 83544 61154 29705 ...\n",
      " $ female_pop                                                    : num  3068 82057 89601 65036 30678 ...\n",
      " $ median_age                                                    : num  50 36.6 37.3 44.1 46.7 44.6 40.5 37.9 43.4 43.7 ...\n",
      " $ white_pop                                                     : num  5929 143657 108627 115206 57523 ...\n",
      " $ black_pop                                                     : num  64 4091 41729 1621 285 ...\n",
      " $ asian_pop                                                     : num  32 6144 3459 2436 579 ...\n",
      " $ hispanic_pop                                                  : num  83 3542 11820 3769 951 ...\n",
      " $ amerindian_pop                                                : num  20 374 967 1047 130 ...\n",
      " $ other_race_pop                                                : num  6 240 377 260 65 159 0 336 57 9 ...\n",
      " $ two_or_more_races_pop                                         : num  69 2892 6121 1760 834 ...\n",
      " $ not_hispanic_pop                                              : num  6120 157443 161325 122421 59432 ...\n",
      " $ commuters_by_public_transportation                            : num  4 2336 903 702 11 ...\n",
      " $ households                                                    : num  2720 64906 63381 49608 24579 ...\n",
      " $ median_income                                                 : num  38767 66906 57647 77862 65834 ...\n",
      " $ income_per_capita                                             : num  23022 36384 27420 39568 33849 ...\n",
      " $ housing_units                                                 : num  5125 68453 69506 63450 38148 ...\n",
      " $ vacant_housing_units                                          : num  2405 3547 6125 13842 13569 ...\n",
      " $ vacant_housing_units_for_rent                                 : num  34 470 1005 412 290 ...\n",
      " $ vacant_housing_units_for_sale                                 : num  31 253 1113 597 512 ...\n",
      " $ median_rent                                                   : num  595 1068 833 938 824 ...\n",
      " $ percent_income_spent_on_rent                                  : num  28 32.7 31.4 30.3 28.9 28.8 29.1 30.5 28 30.4 ...\n",
      " $ owner_occupied_housing_units                                  : num  2148 40980 44132 36357 18619 ...\n",
      " $ million_dollar_housing_units                                  : num  0 275 76 594 323 756 135 149 81 38 ...\n",
      " $ mortgaged_housing_units                                       : num  1084 28210 29247 24856 11806 ...\n",
      " $ families_with_young_children                                  : num  327 9127 12768 5534 3127 ...\n",
      " $ two_parent_families_with_young_children                       : num  159 6866 7373 4306 1769 ...\n",
      " $ two_parents_in_labor_force_families_with_young_children       : num  99 4588 4557 2841 1291 ...\n",
      " $ two_parents_father_in_labor_force_families_with_young_children: num  58 2077 2495 1258 429 ...\n",
      " $ two_parents_mother_in_labor_force_families_with_young_children: num  2 139 226 97 41 217 46 54 4 23 ...\n",
      " $ two_parents_not_in_labor_force_families_with_young_children   : num  0 62 95 110 8 30 2 49 17 22 ...\n",
      " $ one_parent_families_with_young_children                       : num  168 2261 5395 1228 1358 ...\n",
      " $ father_one_parent_families_with_young_children                : num  62 561 890 290 332 126 141 404 84 242 ...\n",
      " $ father_in_labor_force_one_parent_families_with_young_children : num  58 546 813 237 319 105 135 326 74 72 ...\n",
      " $ commute_10_14_mins                                            : num  347 13876 12595 7626 4264 ...\n",
      " $ commute_15_19_mins                                            : num  265 16251 12523 7676 3913 ...\n",
      " $ commute_20_24_mins                                            : num  375 14270 10373 8756 3409 ...\n",
      " $ commute_25_29_mins                                            : num  180 6578 3900 3692 1435 ...\n",
      " $ commute_30_34_mins                                            : num  281 10318 7839 8437 3536 ...\n",
      " $ commute_45_59_mins                                            : num  256 3539 5923 5080 2705 ...\n",
      " $ aggregate_travel_time_to_work                                 : num  65350 1763730 1975260 1551355 756695 ...\n",
      " $ income_less_10000                                             : num  208 3080 3732 2337 1121 ...\n",
      " $ income_10000_14999                                            : num  224 2755 2763 2057 796 ...\n",
      " $ income_15000_19999                                            : num  241 2825 2838 1642 1342 ...\n",
      " $ income_20000_24999                                            : num  199 2736 3037 2025 947 ...\n",
      " $ income_25000_29999                                            : num  161 2371 2900 1515 990 ...\n",
      " $ income_30000_34999                                            : num  195 2716 3967 1565 1144 ...\n",
      " $ income_35000_39999                                            : num  169 2554 2933 2116 1071 ...\n",
      " $ income_40000_44999                                            : num  139 2923 3054 1563 1006 ...\n",
      " $ income_45000_49999                                            : num  114 2224 2435 1514 948 ...\n",
      " $ income_50000_59999                                            : num  199 4915 5514 3103 2017 ...\n",
      " $ income_60000_74999                                            : num  301 6479 7464 4581 2510 ...\n",
      " $ income_75000_99999                                            : num  302 8924 8768 6520 3945 ...\n",
      " $ income_100000_124999                                          : num  144 6929 5489 5778 2654 ...\n",
      " $ income_125000_149999                                          : num  49 4686 3215 4175 1232 ...\n",
      " $ income_150000_199999                                          : num  52 4191 3169 4558 1615 ...\n",
      " $ income_200000_or_more                                         : num  23 4598 2103 4559 1241 ...\n",
      " $ renter_occupied_housing_units_paying_cash_median_gross_rent   : num  688 1186 1030 1086 933 ...\n",
      " $ owner_occupied_housing_units_lower_value_quartile             : num  83300 209500 145400 239500 151600 ...\n",
      " $ owner_occupied_housing_units_median_value                     : num  128900 280000 205800 320600 220400 ...\n",
      " $ owner_occupied_housing_units_upper_value_quartile             : num  197900 384000 277300 431600 319000 ...\n",
      " $ married_households                                            : num  1362 30000 31088 26684 13162 ...\n",
      " $ occupied_housing_units                                        : num  2720 64906 63381 49608 24579 ...\n",
      " $ housing_units_renter_occupied                                 : num  572 23926 19249 13251 5960 ...\n",
      " $ dwellings_1_units_detached                                    : num  4283 35228 46344 48406 27460 ...\n",
      " $ dwellings_1_units_attached                                    : num  9 5904 5944 2231 1331 ...\n",
      " $ dwellings_2_units                                             : num  134 4949 852 3368 1614 ...\n",
      " $ dwellings_3_to_4_units                                        : num  95 6624 1056 2950 1675 ...\n",
      " $ dwellings_5_to_9_units                                        : num  117 4758 1729 1481 1400 ...\n",
      " $ dwellings_10_to_19_units                                      : num  6 1876 3119 1314 614 ...\n",
      " $ dwellings_20_to_49_units                                      : num  28 3467 1075 985 637 ...\n",
      " $ dwellings_50_or_more_units                                    : num  0 2694 745 1137 360 ...\n",
      " $ mobile_homes                                                  : num  453 2945 8572 1544 3057 ...\n",
      " $ housing_built_2005_or_later                                   : num  25 688 1033 323 275 ...\n",
      " $ housing_built_2000_to_2004                                    : num  67 2021 3708 849 449 ...\n",
      " $ housing_built_1939_or_earlier                                 : num  208 2046 1776 3099 1641 ...\n",
      " $ male_under_5                                                  : num  143 4049 5613 2424 1357 ...\n",
      " $ male_5_to_9                                                   : num  168 4214 5369 2919 1788 ...\n",
      "  [list output truncated]\n"
     ]
    }
   ],
   "source": [
    "str(cases)"
   ]
  },
  {
   "cell_type": "markdown",
   "id": "c72d21c2",
   "metadata": {},
   "source": [
    "Because the dataset is so large and has so many features, we decided to trim it to only the features that we would like to explore:"
   ]
  },
  {
   "cell_type": "code",
   "execution_count": 6,
   "id": "db425a4d",
   "metadata": {
    "scrolled": true
   },
   "outputs": [
    {
     "name": "stdout",
     "output_type": "stream",
     "text": [
      "Classes 'tbl_df', 'tbl' and 'data.frame':\t3142 obs. of  11 variables:\n",
      " $ state          : Factor w/ 51 levels \"AK\",\"AL\",\"AR\",..: 47 47 9 40 31 40 47 7 47 47 ...\n",
      " $ confirmed_cases: num  111 3636 11548 5521 2496 ...\n",
      " $ deaths         : num  0 78 187 122 79 6 1 125 5 4 ...\n",
      " $ total_pop      : num  6203 160985 173145 126190 60383 ...\n",
      " $ male_pop       : num  3135 78928 83544 61154 29705 ...\n",
      " $ female_pop     : num  3068 82057 89601 65036 30678 ...\n",
      " $ white_pop      : num  5929 143657 108627 115206 57523 ...\n",
      " $ black_pop      : num  64 4091 41729 1621 285 ...\n",
      " $ asian_pop      : num  32 6144 3459 2436 579 ...\n",
      " $ hispanic_pop   : num  83 3542 11820 3769 951 ...\n",
      " $ amerindian_pop : num  20 374 967 1047 130 ...\n"
     ]
    }
   ],
   "source": [
    "cases_small <- cases[, c(\"state\", \"confirmed_cases\", \"deaths\", \"total_pop\",\"male_pop\", \"female_pop\", \"white_pop\", \"black_pop\",\n",
    "                    \"asian_pop\",\"hispanic_pop\",\"amerindian_pop\")]\n",
    "str(cases_small)"
   ]
  },
  {
   "cell_type": "code",
   "execution_count": 7,
   "id": "706da7ca",
   "metadata": {},
   "outputs": [
    {
     "data": {
      "text/plain": [
       "     state      confirmed_cases         deaths          total_pop       \n",
       " TX     : 254   Min.   :      0.0   Min.   :    0.0   Min.   :      74  \n",
       " GA     : 159   1st Qu.:    796.2   1st Qu.:   12.0   1st Qu.:   10945  \n",
       " VA     : 133   Median :   1916.5   Median :   31.0   Median :   25692  \n",
       " KY     : 120   Mean   :   7558.9   Mean   :  124.8   Mean   :  102166  \n",
       " MO     : 115   3rd Qu.:   4955.0   3rd Qu.:   77.0   3rd Qu.:   67445  \n",
       " KS     : 105   Max.   :1002614.0   Max.   :13936.0   Max.   :10105722  \n",
       " (Other):2256                                                           \n",
       "    male_pop         female_pop        white_pop         black_pop      \n",
       " Min.   :     39   Min.   :     35   Min.   :     18   Min.   :      0  \n",
       " 1st Qu.:   5514   1st Qu.:   5460   1st Qu.:   8093   1st Qu.:     95  \n",
       " Median :  12798   Median :  12885   Median :  20205   Median :    758  \n",
       " Mean   :  50292   Mean   :  51873   Mean   :  62787   Mean   :  12554  \n",
       " 3rd Qu.:  33481   3rd Qu.:  34108   3rd Qu.:  53500   3rd Qu.:   5396  \n",
       " Max.   :4979641   Max.   :5126081   Max.   :2676982   Max.   :1226134  \n",
       "                                                                        \n",
       "   asian_pop          hispanic_pop     amerindian_pop   \n",
       " Min.   :      0.0   Min.   :      0   Min.   :    0.0  \n",
       " 1st Qu.:     31.0   1st Qu.:    323   1st Qu.:   24.0  \n",
       " Median :    138.0   Median :   1025   Median :   95.5  \n",
       " Mean   :   5407.2   Mean   :  17986   Mean   :  668.0  \n",
       " 3rd Qu.:    712.5   3rd Qu.:   4868   3rd Qu.:  348.0  \n",
       " Max.   :1442577.0   Max.   :4893579   Max.   :64102.0  \n",
       "                                                        "
      ]
     },
     "metadata": {},
     "output_type": "display_data"
    }
   ],
   "source": [
    "summary(cases_small)"
   ]
  },
  {
   "cell_type": "markdown",
   "id": "22ebaf78",
   "metadata": {},
   "source": [
    "### 2.2: Data Quality and Integrity\n",
    "\n",
    "Here we will check the small dataset for any duplicated or missing values and adjust the dataset accordingly."
   ]
  },
  {
   "cell_type": "code",
   "execution_count": 8,
   "id": "5f3ed12f",
   "metadata": {},
   "outputs": [
    {
     "data": {
      "text/html": [
       "FALSE"
      ],
      "text/latex": [
       "FALSE"
      ],
      "text/markdown": [
       "FALSE"
      ],
      "text/plain": [
       "[1] FALSE"
      ]
     },
     "metadata": {},
     "output_type": "display_data"
    }
   ],
   "source": [
    "any(duplicated(cases_small))"
   ]
  },
  {
   "cell_type": "code",
   "execution_count": 9,
   "id": "86ebe2f3",
   "metadata": {
    "scrolled": true
   },
   "outputs": [
    {
     "data": {
      "text/html": [
       "FALSE"
      ],
      "text/latex": [
       "FALSE"
      ],
      "text/markdown": [
       "FALSE"
      ],
      "text/plain": [
       "[1] FALSE"
      ]
     },
     "metadata": {},
     "output_type": "display_data"
    }
   ],
   "source": [
    "any(is.na(cases_small))"
   ]
  },
  {
   "cell_type": "markdown",
   "id": "c9063f6c",
   "metadata": {},
   "source": [
    "Since we can see that there are no duplicated or missing values, the small dataset is ready to be worked with. Just for completeness sake, and if we decide later on to use more features, the full dataset will also be checked for duplicates and missing values"
   ]
  },
  {
   "cell_type": "code",
   "execution_count": 10,
   "id": "1193fcdd",
   "metadata": {},
   "outputs": [
    {
     "data": {
      "text/html": [
       "FALSE"
      ],
      "text/latex": [
       "FALSE"
      ],
      "text/markdown": [
       "FALSE"
      ],
      "text/plain": [
       "[1] FALSE"
      ]
     },
     "metadata": {},
     "output_type": "display_data"
    }
   ],
   "source": [
    "any(duplicated(cases))"
   ]
  },
  {
   "cell_type": "code",
   "execution_count": 11,
   "id": "e0057e9b",
   "metadata": {},
   "outputs": [
    {
     "data": {
      "text/html": [
       "TRUE"
      ],
      "text/latex": [
       "TRUE"
      ],
      "text/markdown": [
       "TRUE"
      ],
      "text/plain": [
       "[1] TRUE"
      ]
     },
     "metadata": {},
     "output_type": "display_data"
    }
   ],
   "source": [
    "any(is.na(cases))"
   ]
  },
  {
   "cell_type": "markdown",
   "id": "75c131bf",
   "metadata": {},
   "source": [
    "From this we can see that there are no duplicated values in the dataset, but there are some missing values. These values will now be removed from the dataset."
   ]
  },
  {
   "cell_type": "code",
   "execution_count": 12,
   "id": "0cde2044",
   "metadata": {},
   "outputs": [
    {
     "data": {
      "text/html": [
       "FALSE"
      ],
      "text/latex": [
       "FALSE"
      ],
      "text/markdown": [
       "FALSE"
      ],
      "text/plain": [
       "[1] FALSE"
      ]
     },
     "metadata": {},
     "output_type": "display_data"
    }
   ],
   "source": [
    "cases <- na.omit(cases)\n",
    "any(is.na(cases))"
   ]
  },
  {
   "cell_type": "code",
   "execution_count": 13,
   "id": "199c4347",
   "metadata": {},
   "outputs": [
    {
     "data": {
      "text/plain": [
       "     state      confirmed_cases         deaths          total_pop       \n",
       " TX     : 254   Min.   :      0.0   Min.   :    0.0   Min.   :      74  \n",
       " GA     : 159   1st Qu.:    796.2   1st Qu.:   12.0   1st Qu.:   10945  \n",
       " VA     : 133   Median :   1916.5   Median :   31.0   Median :   25692  \n",
       " KY     : 120   Mean   :   7558.9   Mean   :  124.8   Mean   :  102166  \n",
       " MO     : 115   3rd Qu.:   4955.0   3rd Qu.:   77.0   3rd Qu.:   67445  \n",
       " KS     : 105   Max.   :1002614.0   Max.   :13936.0   Max.   :10105722  \n",
       " (Other):2256                                                           \n",
       "    male_pop         female_pop        white_pop         black_pop      \n",
       " Min.   :     39   Min.   :     35   Min.   :     18   Min.   :      0  \n",
       " 1st Qu.:   5514   1st Qu.:   5460   1st Qu.:   8093   1st Qu.:     95  \n",
       " Median :  12798   Median :  12885   Median :  20205   Median :    758  \n",
       " Mean   :  50292   Mean   :  51873   Mean   :  62787   Mean   :  12554  \n",
       " 3rd Qu.:  33481   3rd Qu.:  34108   3rd Qu.:  53500   3rd Qu.:   5396  \n",
       " Max.   :4979641   Max.   :5126081   Max.   :2676982   Max.   :1226134  \n",
       "                                                                        \n",
       "   asian_pop          hispanic_pop     amerindian_pop   \n",
       " Min.   :      0.0   Min.   :      0   Min.   :    0.0  \n",
       " 1st Qu.:     31.0   1st Qu.:    323   1st Qu.:   24.0  \n",
       " Median :    138.0   Median :   1025   Median :   95.5  \n",
       " Mean   :   5407.2   Mean   :  17986   Mean   :  668.0  \n",
       " 3rd Qu.:    712.5   3rd Qu.:   4868   3rd Qu.:  348.0  \n",
       " Max.   :1442577.0   Max.   :4893579   Max.   :64102.0  \n",
       "                                                        "
      ]
     },
     "metadata": {},
     "output_type": "display_data"
    }
   ],
   "source": [
    "summary(cases_small)"
   ]
  },
  {
   "cell_type": "markdown",
   "id": "3a1dc5b1",
   "metadata": {},
   "source": [
    "### 2.3: Data Visualization"
   ]
  },
  {
   "cell_type": "code",
   "execution_count": 14,
   "id": "c4999390",
   "metadata": {},
   "outputs": [
    {
     "data": {
      "image/png": "[encoded data removed]",
      "text/plain": [
       "plot without title"
      ]
     },
     "metadata": {},
     "output_type": "display_data"
    }
   ],
   "source": [
    "ggplot(cases_small, aes(x = confirmed_cases)) +\n",
    "  geom_histogram(binwidth = 10000, fill = \"blue\", color = \"black\") +\n",
    "  labs(title = \"Histogram of Confirmed Cases\", x = \"Confirmed Cases\", y = \"Frequency\")"
   ]
  },
  {
   "cell_type": "code",
   "execution_count": 17,
   "id": "01ba1448",
   "metadata": {},
   "outputs": [
    {
     "data": {
      "image/png": "[encoded data removed]",
      "text/plain": [
       "plot without title"
      ]
     },
     "metadata": {},
     "output_type": "display_data"
    }
   ],
   "source": [
    "# conda install -c conda-forge r-ggcorrplot to make this work \n",
    "library('ggcorrplot')\n",
    "cor_TX <- cor(cases_small[,-1])\n",
    "ggcorrplot(cor_TX, p.mat = cor_pmat(cases_small[,-1]), insig = \"blank\", hc.order = TRUE) +\n",
    "labs(title = \"Correlation plot\")"
   ]
  },
  {
   "cell_type": "code",
   "execution_count": null,
   "id": "41c82b03",
   "metadata": {},
   "outputs": [],
   "source": []
  },
  {
   "cell_type": "code",
   "execution_count": null,
   "id": "9b1457b6",
   "metadata": {},
   "outputs": [],
   "source": []
  }
 ],
 "metadata": {
  "kernelspec": {
   "display_name": "R",
   "language": "R",
   "name": "ir"
  },
  "language_info": {
   "codemirror_mode": "r",
   "file_extension": ".r",
   "mimetype": "text/x-r-source",
   "name": "R",
   "pygments_lexer": "r",
   "version": "3.6.1"
  }
 },
 "nbformat": 4,
 "nbformat_minor": 5
}
